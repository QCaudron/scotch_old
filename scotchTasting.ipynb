{
 "metadata": {
  "name": ""
 },
 "nbformat": 3,
 "nbformat_minor": 0,
 "worksheets": [
  {
   "cells": [
    {
     "cell_type": "code",
     "collapsed": false,
     "input": [
      "import scotch\n",
      "import matplotlib.pyplot as plt\n",
      "%matplotlib inline\n",
      "import numpy as np"
     ],
     "language": "python",
     "metadata": {},
     "outputs": [
      {
       "ename": "SyntaxError",
       "evalue": "invalid syntax (simulate.py, line 106)",
       "output_type": "pyerr",
       "traceback": [
        "\u001b[0;36m  File \u001b[0;32m\"scotch/simulate.py\"\u001b[0;36m, line \u001b[0;32m106\u001b[0m\n\u001b[0;31m    <<<<<<< HEAD\u001b[0m\n\u001b[0m     ^\u001b[0m\n\u001b[0;31mSyntaxError\u001b[0m\u001b[0;31m:\u001b[0m invalid syntax\n"
       ]
      }
     ],
     "prompt_number": 1
    },
    {
     "cell_type": "code",
     "collapsed": false,
     "input": [
      "A = scotch.model(\"ruthie.json\")"
     ],
     "language": "python",
     "metadata": {},
     "outputs": [
      {
       "output_type": "stream",
       "stream": "stdout",
       "text": [
        "scotch.scotch.model with 9 states, 13 parameters, and 25 reactions.\n",
        "\n",
        "States :\n",
        "T, initial condition = 99990\n",
        "E1, initial condition = 0\n",
        "E1X, initial condition = 0\n",
        "E2, initial condition = 0\n",
        "E2X, initial condition = 0\n",
        "I1, initial condition = 10\n",
        "I2, initial condition = 0\n",
        "DT, initial condition = 0\n",
        "DI, initial condition = 0\n",
        "\n",
        "Parameters :\n",
        "kappa = 0\n",
        "phi_T = 0.14\n",
        "beta_V = 0.000000005\n",
        "nu_I = 1/7\n",
        "phi_I = 0.14 * 0.8\n",
        "mu = 0.00001\n",
        "khi = 8.18 * 100000000000 / 10000* 4.1825 / (22.3*1500)\n",
        "s = 1.01\n",
        "eta = 0.01\n",
        "nu_T = 0.014\n",
        "beta_I = 4.1825 * 0.00001 / (60*24)\n",
        "alpha = 1\n",
        "alpha_X = 0.013\n",
        "\n",
        "Reactions :\n",
        "Number 0: T -> E1,\trate (1 - eta) * beta_I * I1 * T * (1 - mu)\n",
        "Number 1: T -> E1,\trate (1 - eta) * beta_V * khi * I1 * T * (1 - mu)\n",
        "Number 2: T -> E1X,\trate eta * beta_I * I1 * T * (1 - mu)\n",
        "Number 3: T -> E1X,\trate eta * beta_V * I1 * khi * T * (1 - mu)\n",
        "Number 4: T -> E2,\trate mu * (1 - eta) * beta_I * I1 * T\n",
        "Number 5: T -> E2,\trate mu * (1 - eta) * beta_V * khi * I1 * T\n",
        "Number 6: T -> E2,\trate (1 - eta) * s * beta_I * I2 * T\n",
        "Number 7: T -> E2,\trate (1 - eta) * s * beta_V * khi * I2 * T\n",
        "Number 8: T -> E2X,\trate mu * eta * beta_I * I1 * T\n",
        "Number 9: T -> E2X,\trate mu * eta * beta_V * khi * I1 * T\n",
        "Number 10: T -> E2X,\trate eta * s * beta_I * I2 * T\n",
        "Number 11: T -> E2X,\trate eta * s * beta_V * khi * I2 * T\n",
        "Number 12: T -> DT,\trate nu_T * T\n",
        "Number 13: E1 -> I1,\trate alpha * E1\n",
        "Number 14: E1X -> I1,\trate alpha_X * E1X\n",
        "Number 15: E2 -> I2,\trate alpha * E2\n",
        "Number 16: E2X -> I2,\trate alpha_X * E2\n",
        "Number 17: I1 -> DI,\trate nu_I * I1\n",
        "Number 18: I2 -> DI,\trate nu_I * I2\n",
        "Number 19: E1 -> DT,\trate nu_T * E1\n",
        "Number 20: E2 -> DT,\trate nu_T * E2\n",
        "Number 21: E1X -> DT,\trate nu_T * E1X\n",
        "Number 22: E2X -> DT,\trate nu_T * E2X\n",
        "Number 23: DT -> T,\trate phi_T * DT\n",
        "Number 24: DI -> T,\trate phi_I * DI\n",
        "\n"
       ]
      }
     ],
     "prompt_number": 2
    },
    {
     "cell_type": "code",
     "collapsed": false,
     "input": [
      "scotch.simulate.track_reactions(A,False)"
     ],
     "language": "python",
     "metadata": {},
     "outputs": [
      {
       "output_type": "stream",
       "stream": "stdout",
       "text": [
        "Would you like to track any reactions? (y/n)\n"
       ]
      },
      {
       "name": "stdout",
       "output_type": "stream",
       "stream": "stdout",
       "text": [
        "n\n"
       ]
      },
      {
       "output_type": "stream",
       "stream": "stdout",
       "text": [
        "Would you like to track any states? (y/n)\n"
       ]
      },
      {
       "name": "stdout",
       "output_type": "stream",
       "stream": "stdout",
       "text": [
        "y\n"
       ]
      },
      {
       "output_type": "stream",
       "stream": "stdout",
       "text": [
        "Which states would you like to track? (Enter state numbers separated by commas)\n",
        "Number 0: T\n",
        "Number 1: E1\n",
        "Number 2: E1X\n",
        "Number 3: E2\n",
        "Number 4: E2X\n",
        "Number 5: I1\n",
        "Number 6: I2\n",
        "Number 7: DT\n",
        "Number 8: DI\n"
       ]
      },
      {
       "name": "stdout",
       "output_type": "stream",
       "stream": "stdout",
       "text": [
        "7,9\n"
       ]
      },
      {
       "output_type": "stream",
       "stream": "stdout",
       "text": [
        "Error: [9]  not valid state number(s)\n",
        "Please re-enter sta numbers\n"
       ]
      },
      {
       "name": "stdout",
       "output_type": "stream",
       "stream": "stdout",
       "text": [
        "3,4\n"
       ]
      }
     ],
     "prompt_number": 4
    },
    {
     "cell_type": "code",
     "collapsed": false,
     "input": [
      "A.tracked_trans"
     ],
     "language": "python",
     "metadata": {},
     "outputs": [
      {
       "ename": "AttributeError",
       "evalue": "'model' object has no attribute 'tracked_trans'",
       "output_type": "pyerr",
       "traceback": [
        "\u001b[0;31m---------------------------------------------------------------------------\u001b[0m\n\u001b[0;31mAttributeError\u001b[0m                            Traceback (most recent call last)",
        "\u001b[0;32m<ipython-input-5-7053289ac1e8>\u001b[0m in \u001b[0;36m<module>\u001b[0;34m()\u001b[0m\n\u001b[0;32m----> 1\u001b[0;31m \u001b[0mA\u001b[0m\u001b[0;34m.\u001b[0m\u001b[0mtracked_trans\u001b[0m\u001b[0;34m\u001b[0m\u001b[0m\n\u001b[0m",
        "\u001b[0;31mAttributeError\u001b[0m: 'model' object has no attribute 'tracked_trans'"
       ]
      }
     ],
     "prompt_number": 5
    },
    {
     "cell_type": "code",
     "collapsed": false,
     "input": [
      "A.tracked_states"
     ],
     "language": "python",
     "metadata": {},
     "outputs": [
      {
       "metadata": {},
       "output_type": "pyout",
       "prompt_number": 6,
       "text": [
        "['E2', 'E2X']"
       ]
      }
     ],
     "prompt_number": 6
    },
    {
     "cell_type": "code",
     "collapsed": false,
     "input": [
      "checkset"
     ],
     "language": "python",
     "metadata": {},
     "outputs": [
      {
       "metadata": {},
       "output_type": "pyout",
       "prompt_number": 9,
       "text": [
        "[30]"
       ]
      }
     ],
     "prompt_number": 9
    },
    {
     "cell_type": "code",
     "collapsed": false,
     "input": [
      "A = [24, 30]\n",
      "B = [1,2,3,24]\n",
      "checkset= [x for x in A if x not in B]"
     ],
     "language": "python",
     "metadata": {},
     "outputs": [],
     "prompt_number": 7
    },
    {
     "cell_type": "code",
     "collapsed": false,
     "input": [
      "A.tracked_trans"
     ],
     "language": "python",
     "metadata": {},
     "outputs": [
      {
       "metadata": {},
       "output_type": "pyout",
       "prompt_number": 10,
       "text": [
        "[['T', 'E1', '(1 - eta) * beta_I * I1 * T * (1 - mu)'],\n",
        " ['T', 'E1', '(1 - eta) * beta_V * khi * I1 * T * (1 - mu)'],\n",
        " ['T', 'E1X', 'eta * beta_I * I1 * T * (1 - mu)'],\n",
        " ['T', 'E1X', 'eta * beta_V * I1 * khi * T * (1 - mu)'],\n",
        " ['T', 'E2', 'mu * (1 - eta) * beta_I * I1 * T'],\n",
        " ['T', 'E2', 'mu * (1 - eta) * beta_V * khi * I1 * T'],\n",
        " ['T', 'E2', '(1 - eta) * s * beta_I * I2 * T'],\n",
        " ['T', 'E2', '(1 - eta) * s * beta_V * khi * I2 * T'],\n",
        " ['T', 'E2X', 'mu * eta * beta_I * I1 * T'],\n",
        " ['T', 'E2X', 'mu * eta * beta_V * khi * I1 * T'],\n",
        " ['T', 'E2X', 'eta * s * beta_I * I2 * T'],\n",
        " ['T', 'E2X', 'eta * s * beta_V * khi * I2 * T'],\n",
        " ['T', 'DT', 'nu_T * T'],\n",
        " ['E1', 'I1', 'alpha * E1'],\n",
        " ['E1X', 'I1', 'alpha_X * E1X'],\n",
        " ['E2', 'I2', 'alpha * E2'],\n",
        " ['E2X', 'I2', 'alpha_X * E2'],\n",
        " ['I1', 'DI', 'nu_I * I1'],\n",
        " ['I2', 'DI', 'nu_I * I2'],\n",
        " ['E1', 'DT', 'nu_T * E1'],\n",
        " ['E2', 'DT', 'nu_T * E2'],\n",
        " ['E1X', 'DT', 'nu_T * E1X'],\n",
        " ['E2X', 'DT', 'nu_T * E2X'],\n",
        " ['DT', 'T', 'phi_T * DT'],\n",
        " ['DI', 'T', 'phi_I * DI']]"
       ]
      }
     ],
     "prompt_number": 10
    },
    {
     "cell_type": "code",
     "collapsed": false,
     "input": [
      "[t,trace] = scotch.simulate.tauLeap(A,10,.1)"
     ],
     "language": "python",
     "metadata": {},
     "outputs": [
      {
       "output_type": "stream",
       "stream": "stdout",
       "text": [
        "[                         ]"
       ]
      },
      {
       "output_type": "stream",
       "stream": "stdout",
       "text": [
        "\b\b\b\b\b\b\b\b\b\b\b\b\b\b\b\b\b\b\b\b\b\b\b\b\b\b[-137    8    0    0    0   -1    0  129    1]"
       ]
      },
      {
       "output_type": "stream",
       "stream": "stdout",
       "text": [
        "\n",
        "[-133    1    0    0    0    0    0  131    1]\n",
        "[-149    1    0    0    0    1    0  146    1]\n",
        "[-143    6    0    0    0    1    0  136    0]\n",
        "-"
       ]
      },
      {
       "output_type": "stream",
       "stream": "stdout",
       "text": [
        "[-122    4    0    0    0    1    0  117    0]\n",
        "[-154    6    0    0    0    1    0  147    0]\n",
        "[-111    1    0    0    0    2    0  108    0]\n",
        "[-120    8    0    0    0    2    0  110    0]\n",
        "[-126    4    0    0    0    5    0  117    0]\n",
        "-"
       ]
      },
      {
       "output_type": "stream",
       "stream": "stdout",
       "text": [
        "[-153   13    0    0    0    2    0  138    0]\n",
        "[-152    0    0    0    0    8    0  144    0]\n",
        "[-131    7    0    0    0    2    0  120    2]\n",
        "[-123   11    0    0    0    3    0  109    0]\n",
        "-"
       ]
      },
      {
       "output_type": "stream",
       "stream": "stdout",
       "text": [
        "[-116   12    0    0    0    6    0   98    0]\n",
        "[-142   20    0    0    0    5    0  117    0]\n",
        "[-113    8    0    0    0   13    0   92    0]\n",
        "-"
       ]
      },
      {
       "output_type": "stream",
       "stream": "stdout",
       "text": [
        "[-141   18    0    0    0    5    0  118    0]\n",
        "[-113   14    0    0    0   16    0   82    1]\n",
        "[-141   15    0    0    0   13    0  113    0]\n",
        "[-134   33    0    0    0   14    0   87    0]\n",
        "-"
       ]
      },
      {
       "output_type": "stream",
       "stream": "stdout",
       "text": [
        "[-154   24    0    0    0   20    0  108    2]\n",
        "[-160   34    0    0    0   19    0  105    2]\n",
        "[-178   47    0    0    0   20    0  109    2]\n",
        "[-188   43    1    0    0   34    0  109    1]\n",
        "-"
       ]
      },
      {
       "output_type": "stream",
       "stream": "stdout",
       "text": [
        "[-172   66    1    0    0   31    0   72    2]\n",
        "[-208   90    1    0    0   28    0   85    4]\n",
        "[-224   75    1    0    0   45    0   96    7]\n",
        "[-239   95    0    0    0   59    0   82    3]\n",
        "-"
       ]
      },
      {
       "output_type": "stream",
       "stream": "stdout",
       "text": [
        "[-280  122    2    0    0   50    0  102    4]\n",
        "[-298  137    8    0    0   67    0   82    4]\n",
        "[-302  134    1    0    0   77    0   84    6]\n",
        "[-347  155    3    0    0   89    0   88   12]\n",
        "-"
       ]
      },
      {
       "output_type": "stream",
       "stream": "stdout",
       "text": [
        "[-433  202    4    0    0   92    0  123   12]\n",
        "[-417  186    3    0    0  136    0   84    8]\n",
        "[-496  255    7    0    0  136    0   85   13]\n",
        "[-574  330    4    0    0  172    0   59    9]\n",
        "-"
       ]
      },
      {
       "output_type": "stream",
       "stream": "stdout",
       "text": [
        "[-624  329    3    0    0  200    0   73   19]\n",
        "[-729  408    8    0    0  215    0   71   27]\n",
        "[-815  445   10    0    0  272    0   74   14]\n",
        "[-916  469   15    0    0  314    0   89   29]\n",
        "-"
       ]
      },
      {
       "output_type": "stream",
       "stream": "stdout",
       "text": [
        "[-1095   588     9     0     0   386     0    78    34]\n",
        "[-1206   692    12     0     0   397     0    72    33]\n",
        "[-1371   813     9     0     0   459     0    53    37]\n",
        "[-1506   825    18     0     0   562     0    52    49]\n",
        "-"
       ]
      },
      {
       "output_type": "stream",
       "stream": "stdout",
       "text": [
        "[-1802  1066    18     0     0   610     0    68    40]\n",
        "[-1994  1103    22     0     0   761     0    57    51]\n",
        "[-2236  1178    20     0     0   897     0    74    67]\n",
        "[-2552  1440    23     0     0   935     0    69    85]\n",
        "[-2828  1597    23     0     0  1069     0    46    93]\n",
        "-"
       ]
      },
      {
       "output_type": "stream",
       "stream": "stdout",
       "text": [
        "[-3211  1759    27     0     0  1238     0    79   108]\n",
        "[-3455  1818    30     0     0  1407     0    78   122]\n",
        "[-3694  1936    33     0     0  1533     0    59   133]\n",
        "[-3867  1995    32     0     0  1662     0    50   128]\n",
        "-"
       ]
      },
      {
       "output_type": "stream",
       "stream": "stdout",
       "text": [
        "[-4178  2107    37     0     0  1820     0    31   183]\n",
        "[-4305  1960    42     0     0  2037     0    36   230]\n",
        "[-4568  1967    54     0     0  2254     0    40   253]\n",
        "[-4733  2072    44     0     0  2324     0    28   265]\n",
        "-"
       ]
      },
      {
       "output_type": "stream",
       "stream": "stdout",
       "text": [
        "[-4743  1761    43     0     0  2624     0    20   295]\n",
        "[-4604  1491    43     0     0  2712     0    23   335]\n",
        "[-4476  1249    41     0     0  2805     0    24   357]\n",
        "[-4126   856    46     0     0  2791     0    10   423]\n",
        "-"
       ]
      },
      {
       "output_type": "stream",
       "stream": "stdout",
       "text": [
        "[-4007   659    46     0     0  2861     0     6   435]\n",
        "[-3520    57    33     0     0  2941     0     8   481]\n",
        "[-3054  -442    27     0     0  2983     0     5   481]\n",
        "[-2636  -835    20     0     0  2887     0    -3   567]\n",
        "-"
       ]
      },
      {
       "output_type": "stream",
       "stream": "stdout",
       "text": [
        "[-2176 -1141    17     0     0  2709     0    -8   599]\n",
        "[-1803 -1401    18     0     0  2625     0   -34   595]\n",
        "[-1339 -1677    20     0     0  2396     0    -9   609]\n",
        "[-1080 -1698     9     0     0  2118     0   -25   676]\n",
        "-"
       ]
      },
      {
       "output_type": "stream",
       "stream": "stdout",
       "text": [
        "[ -792 -1875    10     0     0  1983     0   -37   711]\n",
        "[ -605 -1855     6     0     0  1742     0   -29   741]\n",
        "[ -456 -1736     7     0     0  1544     0   -47   688]\n",
        "[ -270 -1828     0     0     0  1355     0   -51   794]\n",
        "-"
       ]
      },
      {
       "output_type": "stream",
       "stream": "stdout",
       "text": [
        "[ -216 -1620     0     0     0  1140     0   -35   731]\n",
        "[ -132 -1557     1     0     0   981     0   -49   756]\n",
        "[ -104 -1416     1     0     0   815     0   -46   750]\n",
        "[  -46 -1392     2     0     0   676     0   -29   789]\n",
        "-"
       ]
      },
      {
       "output_type": "stream",
       "stream": "stdout",
       "text": [
        "[  -70 -1178     6     0     0   501     0   -43   784]\n",
        "[  -45 -1168    -1     0     0   402     0   -38   850]\n",
        "[   44 -1034     0     0     0   280     0   -56   766]\n",
        "[   1 -840    0    0    0  181    0  -38  696]\n",
        "-"
       ]
      },
      {
       "output_type": "stream",
       "stream": "stdout",
       "text": [
        "[  -9 -746   -1    0    0   56    0  -40  740]\n",
        "[  52 -728   -3    0    0   22    0  -43  700]\n",
        "[   7 -590   -1    0    0 -144    0  -42  770]\n",
        "[ -13 -523   -2    0    0 -193    0  -42  773]\n",
        "-"
       ]
      },
      {
       "output_type": "stream",
       "stream": "stdout",
       "text": [
        "[  24 -529   -2    0    0 -148    0  -48  703]\n",
        "[  19 -401   -2    0    0 -291    0  -59  734]\n",
        "[  15 -422   -3    0    0 -270    0  -52  732]\n",
        "[  45 -330    3    0    0 -363    0  -55  700]\n",
        "-"
       ]
      },
      {
       "output_type": "stream",
       "stream": "stdout",
       "text": [
        "[  38 -353    1    0    0 -325    0  -54  693]\n",
        "[  22 -224   -4    0    0 -397    0  -48  651]\n",
        "[  39 -255    3    0    0 -470    0  -38  721]\n",
        "[  10 -204    2    0    0 -370    0  -60  622]\n",
        "-"
       ]
      },
      {
       "output_type": "stream",
       "stream": "stdout",
       "text": [
        "[  24 -173    0    0    0 -410    0  -56  615]\n",
        "[  52 -156    1    0    0 -444    0  -61  608]\n",
        "[  90 -138   -1    0    0 -473    0  -60  582]\n",
        "[   3 -104    2    0    0 -360    0  -45  504]\n",
        "-"
       ]
      },
      {
       "output_type": "stream",
       "stream": "stdout",
       "text": [
        "[ -27  -45   -2    0    0 -435    0  -43  552]\n",
        "[  46 -106    1    0    0 -375    0  -38  472]\n",
        "[  22  -58    2    0    0 -425    0  -52  511]\n",
        "[ -17  -20    1    0    0 -515    0  -36  587]\n",
        "-"
       ]
      }
     ],
     "prompt_number": 4
    },
    {
     "cell_type": "code",
     "collapsed": false,
     "input": [
      "plt.plot(t,trace)"
     ],
     "language": "python",
     "metadata": {},
     "outputs": [
      {
       "metadata": {},
       "output_type": "pyout",
       "prompt_number": 7,
       "text": [
        "[<matplotlib.lines.Line2D at 0x106213490>,\n",
        " <matplotlib.lines.Line2D at 0x106213710>,\n",
        " <matplotlib.lines.Line2D at 0x106213950>,\n",
        " <matplotlib.lines.Line2D at 0x106213b10>,\n",
        " <matplotlib.lines.Line2D at 0x106213cd0>,\n",
        " <matplotlib.lines.Line2D at 0x106213e90>,\n",
        " <matplotlib.lines.Line2D at 0x10621d090>,\n",
        " <matplotlib.lines.Line2D at 0x1060bf750>,\n",
        " <matplotlib.lines.Line2D at 0x10621d410>]"
       ]
      },
      {
       "metadata": {},
       "output_type": "display_data",
       "png": "[encoded data removed]",
       "text": [
        "<matplotlib.figure.Figure at 0x106036d50>"
       ]
      }
     ],
     "prompt_number": 7
    },
    {
     "cell_type": "code",
     "collapsed": false,
     "input": [
      "rates = np.zeros(A.N_reactions)\n",
      "tau  = 1\n",
      "Use = np.zeros(A.N_reactions)\n",
      "for i in range(A.N_reactions) :\n",
      "\t\t\trates[i] = A.rates[i](A.X)\n",
      "\t\t\tNum=np.random.poisson(rates[i]*tau/rates.sum());\n",
      "\t\t\t## Make sure things don't go negative\n",
      "\t\t\tUse[i]=min([Num, A.X[np.where(A.transition[i,:]<0)]]);\n"
     ],
     "language": "python",
     "metadata": {},
     "outputs": [],
     "prompt_number": 8
    },
    {
     "cell_type": "code",
     "collapsed": false,
     "input": [
      "rates = np.zeros(A.N_reactions)\n",
      "tau = 1\n",
      "for i in range(A.N_reactions) :\n",
      "\trates[i] = A.rates[i](A.X)\n",
      "\n",
      "Num=[np.random.poisson(i*tau/rates.sum()) for i in rates]\n",
      "Use = [min([Num[i], A.X[np.where(A.transition[i,:]<0)]]) for i in range(A.N_reactions)]\n"
     ],
     "language": "python",
     "metadata": {},
     "outputs": [],
     "prompt_number": 16
    },
    {
     "cell_type": "code",
     "collapsed": false,
     "input": [
      "np.sum(A.transition*Use,axis=1)"
     ],
     "language": "python",
     "metadata": {},
     "outputs": [
      {
       "metadata": {},
       "output_type": "pyout",
       "prompt_number": 21,
       "text": [
        "array([-3.,  3.,  0.])"
       ]
      }
     ],
     "prompt_number": 21
    },
    {
     "cell_type": "code",
     "collapsed": false,
     "input": [
      "tt = np.where(t1 > 1)[0][0]\n",
      "plt.plot(t1[:7],trace[:7])\n"
     ],
     "language": "python",
     "metadata": {},
     "outputs": [
      {
       "metadata": {},
       "output_type": "pyout",
       "prompt_number": 25,
       "text": [
        "[<matplotlib.lines.Line2D at 0x1097cab10>,\n",
        " <matplotlib.lines.Line2D at 0x109ac8a50>,\n",
        " <matplotlib.lines.Line2D at 0x109ac8150>]"
       ]
      },
      {
       "metadata": {},
       "output_type": "display_data",
       "png": "[encoded data removed]",
       "text": [
        "<matplotlib.figure.Figure at 0x1098dbcd0>"
       ]
      }
     ],
     "prompt_number": 25
    },
    {
     "cell_type": "code",
     "collapsed": false,
     "input": [
      "[t1,trace1] = scotch.simulate.gillespie(A,30)"
     ],
     "language": "python",
     "metadata": {},
     "outputs": [],
     "prompt_number": 15
    },
    {
     "cell_type": "code",
     "collapsed": false,
     "input": [
      "import networkx as nx"
     ],
     "language": "python",
     "metadata": {},
     "outputs": [],
     "prompt_number": 12
    },
    {
     "cell_type": "code",
     "collapsed": false,
     "input": [
      "G = nx.DiGraph()"
     ],
     "language": "python",
     "metadata": {},
     "outputs": [],
     "prompt_number": 67
    },
    {
     "cell_type": "code",
     "collapsed": false,
     "input": [
      "G.add_nodes_from(A.states)"
     ],
     "language": "python",
     "metadata": {},
     "outputs": [],
     "prompt_number": 68
    },
    {
     "cell_type": "code",
     "collapsed": false,
     "input": [
      "G.add_edges_from(reactions_tuple)"
     ],
     "language": "python",
     "metadata": {},
     "outputs": [],
     "prompt_number": 69
    },
    {
     "cell_type": "code",
     "collapsed": false,
     "input": [],
     "language": "python",
     "metadata": {},
     "outputs": [
      {
       "metadata": {},
       "output_type": "pyout",
       "prompt_number": 43,
       "text": [
        "[u'I', u'S', u'R']"
       ]
      }
     ],
     "prompt_number": 43
    },
    {
     "cell_type": "code",
     "collapsed": false,
     "input": [
      "nx.draw(G)"
     ],
     "language": "python",
     "metadata": {},
     "outputs": [
      {
       "metadata": {},
       "output_type": "display_data",
       "png": "[encoded data removed]",
       "text": [
        "<matplotlib.figure.Figure at 0x105ee9850>"
       ]
      }
     ],
     "prompt_number": 70
    },
    {
     "cell_type": "code",
     "collapsed": false,
     "input": [
      "pos=nx.circular_layout(G)\n",
      "nx.draw_networkx_edge_labels(G,pos,edge_labels=edge_labels1)\n",
      "nx.draw(G,pos)\n",
      "    "
     ],
     "language": "python",
     "metadata": {},
     "outputs": [
      {
       "metadata": {},
       "output_type": "display_data",
       "png": "[encoded data removed]",
       "text": [
        "<matplotlib.figure.Figure at 0x1067a2a50>"
       ]
      }
     ],
     "prompt_number": 79
    },
    {
     "cell_type": "code",
     "collapsed": false,
     "input": [
      "reactions_tuple =((u'S',u'I',{'label':u'r0*g*S*I/(S+I+R)'}),(u'I', u'R', {'label': u'I * g'}))"
     ],
     "language": "python",
     "metadata": {},
     "outputs": [],
     "prompt_number": 11
    },
    {
     "cell_type": "code",
     "collapsed": false,
     "input": [
      "import networkx as nx\n",
      "import numpy as np\n",
      "import matplotlib.pyplot as plt\n",
      "import pylab"
     ],
     "language": "python",
     "metadata": {},
     "outputs": [],
     "prompt_number": 24
    },
    {
     "cell_type": "code",
     "collapsed": false,
     "input": [
      "G = nx.DiGraph()\n",
      "\n",
      "G.add_edges_from([('A', 'B'),('C','D'),('G','D')], weight=1)\n",
      "G.add_edges_from([('D','A'),('D','E'),('B','D'),('D','E')], weight=2)\n",
      "G.add_edges_from([('B','C'),('E','F')], weight=3)\n",
      "G.add_edges_from([('C','F')], weight=4)\n",
      "\n",
      "\n",
      "val_map = {'A': 1.0,\n",
      "                   'D': 0.5714285714285714,\n",
      "                              'H': 0.0}\n",
      "\n",
      "values = [val_map.get(node, 0.45) for node in G.nodes()]\n",
      "edge_labels=dict([((u,v,),d['weight'])\n",
      "                 for u,v,d in G.edges(data=True)])\n",
      "red_edges = [('C','D'),('D','A')]\n",
      "edge_colors = ['black' if not edge in red_edges else 'red' for edge in G.edges()]\n",
      "\n",
      "pos=nx.spring_layout(G)\n",
      "nx.draw_networkx_edge_labels(G,pos,edge_labels=edge_labels)\n",
      "nx.draw(G,pos, node_color = values, node_size=1500,edge_color=edge_colors,edge_cmap=plt.cm.Reds)\n",
      "pylab.show()"
     ],
     "language": "python",
     "metadata": {},
     "outputs": []
    },
    {
     "cell_type": "code",
     "collapsed": false,
     "input": [
      "edge_list"
     ],
     "language": "python",
     "metadata": {},
     "outputs": [
      {
       "metadata": {},
       "output_type": "pyout",
       "prompt_number": 15,
       "text": [
        "[(u'S', u'I'), (u'I', u'R')]"
       ]
      }
     ],
     "prompt_number": 15
    },
    {
     "cell_type": "code",
     "collapsed": false,
     "input": [
      "edge_list =[(d[0],d[1]) for d in A.reactions]"
     ],
     "language": "python",
     "metadata": {},
     "outputs": [],
     "prompt_number": 14
    },
    {
     "cell_type": "code",
     "collapsed": false,
     "input": [
      "edge_labels1=dict([((d[0],d[1],),d[2])\n",
      "                 for d in A.reactions])"
     ],
     "language": "python",
     "metadata": {},
     "outputs": [],
     "prompt_number": 65
    },
    {
     "cell_type": "code",
     "collapsed": false,
     "input": [
      "edge_labels1"
     ],
     "language": "python",
     "metadata": {},
     "outputs": [
      {
       "metadata": {},
       "output_type": "pyout",
       "prompt_number": 66,
       "text": [
        "{(u'I', u'R'): u'I * g', (u'S', u'I'): u'r0 * g * S * I / (S+I+R)'}"
       ]
      }
     ],
     "prompt_number": 66
    },
    {
     "cell_type": "code",
     "collapsed": false,
     "input": [
      "import pygraphviz as pgv"
     ],
     "language": "python",
     "metadata": {},
     "outputs": [],
     "prompt_number": 1
    },
    {
     "cell_type": "code",
     "collapsed": false,
     "input": [
      "G=pgv.AGraph(strict = False, directed = True)"
     ],
     "language": "python",
     "metadata": {},
     "outputs": [],
     "prompt_number": 5
    },
    {
     "cell_type": "code",
     "collapsed": false,
     "input": [
      "G.add_nodes_from(A.states)"
     ],
     "language": "python",
     "metadata": {},
     "outputs": [],
     "prompt_number": 10
    },
    {
     "cell_type": "code",
     "collapsed": false,
     "input": [
      "G.add_edges_from(edge_list)"
     ],
     "language": "python",
     "metadata": {},
     "outputs": [],
     "prompt_number": 16
    },
    {
     "cell_type": "code",
     "collapsed": false,
     "input": [
      "s = G.string()"
     ],
     "language": "python",
     "metadata": {},
     "outputs": [],
     "prompt_number": 21
    },
    {
     "cell_type": "code",
     "collapsed": false,
     "input": [
      "G.draw('graph_example.png')"
     ],
     "language": "python",
     "metadata": {},
     "outputs": [],
     "prompt_number": 20
    },
    {
     "cell_type": "code",
     "collapsed": false,
     "input": [
      "pos=nx.spring_layout(G)\n",
      "nx.draw_networkx_edge_labels(G,pos,edge_labels=edge_labels1)"
     ],
     "language": "python",
     "metadata": {},
     "outputs": [
      {
       "ename": "AttributeError",
       "evalue": "'AGraph' object has no attribute 'is_multigraph'",
       "output_type": "pyerr",
       "traceback": [
        "\u001b[0;31m---------------------------------------------------------------------------\u001b[0m\n\u001b[0;31mAttributeError\u001b[0m                            Traceback (most recent call last)",
        "\u001b[0;32m<ipython-input-25-4786ff22663b>\u001b[0m in \u001b[0;36m<module>\u001b[0;34m()\u001b[0m\n\u001b[0;32m----> 1\u001b[0;31m \u001b[0mpos\u001b[0m\u001b[0;34m=\u001b[0m\u001b[0mnx\u001b[0m\u001b[0;34m.\u001b[0m\u001b[0mspring_layout\u001b[0m\u001b[0;34m(\u001b[0m\u001b[0mG\u001b[0m\u001b[0;34m)\u001b[0m\u001b[0;34m\u001b[0m\u001b[0m\n\u001b[0m\u001b[1;32m      2\u001b[0m \u001b[0mnx\u001b[0m\u001b[0;34m.\u001b[0m\u001b[0mdraw_networkx_edge_labels\u001b[0m\u001b[0;34m(\u001b[0m\u001b[0mG\u001b[0m\u001b[0;34m,\u001b[0m\u001b[0mpos\u001b[0m\u001b[0;34m,\u001b[0m\u001b[0medge_labels\u001b[0m\u001b[0;34m=\u001b[0m\u001b[0medge_labels1\u001b[0m\u001b[0;34m)\u001b[0m\u001b[0;34m\u001b[0m\u001b[0m\n",
        "\u001b[0;32m/Users/rbirger/anaconda/lib/python2.7/site-packages/networkx/drawing/layout.pyc\u001b[0m in \u001b[0;36mfruchterman_reingold_layout\u001b[0;34m(G, dim, k, pos, fixed, iterations, weight, scale)\u001b[0m\n\u001b[1;32m    242\u001b[0m         \u001b[0mpos\u001b[0m\u001b[0;34m=\u001b[0m\u001b[0m_sparse_fruchterman_reingold\u001b[0m\u001b[0;34m(\u001b[0m\u001b[0mA\u001b[0m\u001b[0;34m,\u001b[0m\u001b[0mdim\u001b[0m\u001b[0;34m,\u001b[0m\u001b[0mk\u001b[0m\u001b[0;34m,\u001b[0m\u001b[0mpos_arr\u001b[0m\u001b[0;34m,\u001b[0m\u001b[0mfixed\u001b[0m\u001b[0;34m,\u001b[0m\u001b[0miterations\u001b[0m\u001b[0;34m)\u001b[0m\u001b[0;34m\u001b[0m\u001b[0m\n\u001b[1;32m    243\u001b[0m     \u001b[0;32mexcept\u001b[0m\u001b[0;34m:\u001b[0m\u001b[0;34m\u001b[0m\u001b[0m\n\u001b[0;32m--> 244\u001b[0;31m         \u001b[0mA\u001b[0m\u001b[0;34m=\u001b[0m\u001b[0mnx\u001b[0m\u001b[0;34m.\u001b[0m\u001b[0mto_numpy_matrix\u001b[0m\u001b[0;34m(\u001b[0m\u001b[0mG\u001b[0m\u001b[0;34m,\u001b[0m\u001b[0mweight\u001b[0m\u001b[0;34m=\u001b[0m\u001b[0mweight\u001b[0m\u001b[0;34m)\u001b[0m\u001b[0;34m\u001b[0m\u001b[0m\n\u001b[0m\u001b[1;32m    245\u001b[0m         \u001b[0mpos\u001b[0m\u001b[0;34m=\u001b[0m\u001b[0m_fruchterman_reingold\u001b[0m\u001b[0;34m(\u001b[0m\u001b[0mA\u001b[0m\u001b[0;34m,\u001b[0m\u001b[0mdim\u001b[0m\u001b[0;34m,\u001b[0m\u001b[0mk\u001b[0m\u001b[0;34m,\u001b[0m\u001b[0mpos_arr\u001b[0m\u001b[0;34m,\u001b[0m\u001b[0mfixed\u001b[0m\u001b[0;34m,\u001b[0m\u001b[0miterations\u001b[0m\u001b[0;34m)\u001b[0m\u001b[0;34m\u001b[0m\u001b[0m\n\u001b[1;32m    246\u001b[0m     \u001b[0;32mif\u001b[0m \u001b[0mfixed\u001b[0m \u001b[0;32mis\u001b[0m \u001b[0mNone\u001b[0m\u001b[0;34m:\u001b[0m\u001b[0;34m\u001b[0m\u001b[0m\n",
        "\u001b[0;32m/Users/rbirger/anaconda/lib/python2.7/site-packages/networkx/convert.pyc\u001b[0m in \u001b[0;36mto_numpy_matrix\u001b[0;34m(G, nodelist, dtype, order, multigraph_weight, weight)\u001b[0m\n\u001b[1;32m    495\u001b[0m     \u001b[0mindex\u001b[0m\u001b[0;34m=\u001b[0m\u001b[0mdict\u001b[0m\u001b[0;34m(\u001b[0m\u001b[0mzip\u001b[0m\u001b[0;34m(\u001b[0m\u001b[0mnodelist\u001b[0m\u001b[0;34m,\u001b[0m\u001b[0mrange\u001b[0m\u001b[0;34m(\u001b[0m\u001b[0mnlen\u001b[0m\u001b[0;34m)\u001b[0m\u001b[0;34m)\u001b[0m\u001b[0;34m)\u001b[0m\u001b[0;34m\u001b[0m\u001b[0m\n\u001b[1;32m    496\u001b[0m \u001b[0;34m\u001b[0m\u001b[0m\n\u001b[0;32m--> 497\u001b[0;31m     \u001b[0;32mif\u001b[0m \u001b[0mG\u001b[0m\u001b[0;34m.\u001b[0m\u001b[0mis_multigraph\u001b[0m\u001b[0;34m(\u001b[0m\u001b[0;34m)\u001b[0m\u001b[0;34m:\u001b[0m\u001b[0;34m\u001b[0m\u001b[0m\n\u001b[0m\u001b[1;32m    498\u001b[0m         \u001b[0;31m# Handle MultiGraphs and MultiDiGraphs\u001b[0m\u001b[0;34m\u001b[0m\u001b[0;34m\u001b[0m\u001b[0m\n\u001b[1;32m    499\u001b[0m         \u001b[0;31m# array of nan' to start with, any leftover nans will be converted to 0\u001b[0m\u001b[0;34m\u001b[0m\u001b[0;34m\u001b[0m\u001b[0m\n",
        "\u001b[0;31mAttributeError\u001b[0m: 'AGraph' object has no attribute 'is_multigraph'"
       ]
      }
     ],
     "prompt_number": 25
    },
    {
     "cell_type": "code",
     "collapsed": false,
     "input": [],
     "language": "python",
     "metadata": {},
     "outputs": []
    }
   ],
   "metadata": {}
  }
 ]
}