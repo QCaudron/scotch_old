{
 "metadata": {
  "name": ""
 },
 "nbformat": 3,
 "nbformat_minor": 0,
 "worksheets": [
  {
   "cells": [
    {
     "cell_type": "code",
     "collapsed": false,
     "input": [
      "import scotch\n",
      "import matplotlib.pyplot as plt\n",
      "%matplotlib inline\n",
      "import numpy as np"
     ],
     "language": "python",
     "metadata": {},
     "outputs": [],
     "prompt_number": 1
    },
    {
     "cell_type": "markdown",
     "metadata": {},
     "source": [
      "#### Things to do\n",
      "set json files for each version of the model -- just change the parameter values\n",
      "\n",
      "\n",
      "get actors and states dicts\n",
      "\n",
      "figure out how to translate them into the right file patterns\n"
     ]
    },
    {
     "cell_type": "code",
     "collapsed": false,
     "input": [
      "model = scotch.model('HCVLinTrackSS.json')"
     ],
     "language": "python",
     "metadata": {},
     "outputs": [
      {
       "output_type": "stream",
       "stream": "stdout",
       "text": [
        "scotch.scotch.model with 9 states, 13 parameters, and 25 events.\n",
        "\n",
        "States :\n",
        "T, initial condition = 10000\n",
        "E1, initial condition = 0\n",
        "E1X, initial condition = 0\n",
        "E2, initial condition = 0\n",
        "E2X, initial condition = 0\n",
        "I1, initial condition = 10\n",
        "I2, initial condition = 1\n",
        "DT, initial condition = 0\n",
        "DI, initial condition = 0\n",
        "\n",
        "Parameters :\n",
        "kappa = 0\n",
        "phi_T = 0.14\n",
        "beta_V = 0.000000005\n",
        "nu_I = 1/7\n",
        "phi_I = 0.14 * 0.8\n",
        "mu = 0.00001\n",
        "khi = 8.18 * 100000000000 / 10000* 4.1825 / (22.3*1500)\n",
        "s = 1.01\n",
        "eta = 0.01\n",
        "nu_T = 0.014\n",
        "beta_I = 4.1825 * 0.00001 / (60*24)\n",
        "alpha = 1\n",
        "alpha_X = .013\n",
        "\n",
        "Events :\n",
        "Number 0: \tprobability (1 - eta) * beta_I * I1 * T * (1 - mu)\n",
        "Number 1: \tprobability (1 - eta) * beta_V * khi * I1 * T * (1 - mu)\n",
        "Number 2: \tprobability eta * beta_I * I1 * T * (1 - mu)\n",
        "Number 3: \tprobability eta * beta_V * I1 * khi * T * (1 - mu)\n",
        "Number 4: \tprobability mu * (1 - eta) * beta_I * I1 * T\n",
        "Number 5: \tprobability mu * (1 - eta) * beta_V * khi * I1 * T\n",
        "Number 6: \tprobability (1 - eta) * s * beta_I * I2 * T\n",
        "Number 7: \tprobability (1 - eta) * s * beta_V * khi * I2 * T\n",
        "Number 8: \tprobability mu * eta * beta_I * I1 * T\n",
        "Number 9: \tprobability mu * eta * beta_V * khi * I1 * T\n",
        "Number 10: \tprobability eta * s * beta_I * I2 * T\n",
        "Number 11: \tprobability eta * s * beta_V * khi * I2 * T\n",
        "Number 12: \tprobability nu_T * T\n",
        "Number 13: \tprobability alpha * E1\n",
        "Number 14: \tprobability alpha_X * E1X\n",
        "Number 15: \tprobability alpha * E2\n",
        "Number 16: \tprobability alpha_X * E2\n",
        "Number 17: \tprobability nu_I * I1\n",
        "Number 18: \tprobability nu_I * I2\n",
        "Number 19: \tprobability nu_T * E1\n",
        "Number 20: \tprobability nu_T * E2\n",
        "Number 21: \tprobability nu_T * E1X\n",
        "Number 22: \tprobability nu_T * E2X\n",
        "Number 23: \tprobability phi_T * DT\n",
        "Number 24: \tprobability phi_I * DI\n",
        "\n"
       ]
      }
     ],
     "prompt_number": 2
    },
    {
     "cell_type": "code",
     "collapsed": false,
     "input": [
      "scotch.helpers.add_actors_wizard(model)"
     ],
     "language": "python",
     "metadata": {},
     "outputs": [
      {
       "output_type": "stream",
       "stream": "stdout",
       "text": [
        "This wizard will help assign states as actors for each events\n",
        "The states to choose from are ['T', 'E1', 'E1X', 'E2', 'E2X', 'I1', 'I2', 'DT', 'DI']\n",
        "Enter actor for the following event (enter '[]' without quotes if no actor)\n",
        "(1 - eta) * beta_I * I1 * T * (1 - mu)\n"
       ]
      },
      {
       "name": "stdout",
       "output_type": "stream",
       "stream": "stdout",
       "text": [
        "I1\n"
       ]
      },
      {
       "output_type": "stream",
       "stream": "stdout",
       "text": [
        "Enter actor for the following event (enter '[]' without quotes if no actor)\n",
        "(1 - eta) * beta_V * khi * I1 * T * (1 - mu)\n"
       ]
      },
      {
       "name": "stdout",
       "output_type": "stream",
       "stream": "stdout",
       "text": [
        "I1\n"
       ]
      },
      {
       "output_type": "stream",
       "stream": "stdout",
       "text": [
        "Enter actor for the following event (enter '[]' without quotes if no actor)\n",
        "eta * beta_I * I1 * T * (1 - mu)\n"
       ]
      },
      {
       "name": "stdout",
       "output_type": "stream",
       "stream": "stdout",
       "text": [
        "I1\n"
       ]
      },
      {
       "output_type": "stream",
       "stream": "stdout",
       "text": [
        "Enter actor for the following event (enter '[]' without quotes if no actor)\n",
        "eta * beta_V * I1 * khi * T * (1 - mu)\n"
       ]
      },
      {
       "name": "stdout",
       "output_type": "stream",
       "stream": "stdout",
       "text": [
        "I1\n"
       ]
      },
      {
       "output_type": "stream",
       "stream": "stdout",
       "text": [
        "Enter actor for the following event (enter '[]' without quotes if no actor)\n",
        "mu * (1 - eta) * beta_I * I1 * T\n"
       ]
      },
      {
       "name": "stdout",
       "output_type": "stream",
       "stream": "stdout",
       "text": [
        "I1\n"
       ]
      },
      {
       "output_type": "stream",
       "stream": "stdout",
       "text": [
        "Enter actor for the following event (enter '[]' without quotes if no actor)\n",
        "mu * (1 - eta) * beta_V * khi * I1 * T\n"
       ]
      },
      {
       "name": "stdout",
       "output_type": "stream",
       "stream": "stdout",
       "text": [
        "I1\n"
       ]
      },
      {
       "output_type": "stream",
       "stream": "stdout",
       "text": [
        "Enter actor for the following event (enter '[]' without quotes if no actor)\n",
        "(1 - eta) * s * beta_I * I2 * T\n"
       ]
      },
      {
       "name": "stdout",
       "output_type": "stream",
       "stream": "stdout",
       "text": [
        "I2\n"
       ]
      },
      {
       "output_type": "stream",
       "stream": "stdout",
       "text": [
        "Enter actor for the following event (enter '[]' without quotes if no actor)\n",
        "(1 - eta) * s * beta_V * khi * I2 * T\n"
       ]
      },
      {
       "name": "stdout",
       "output_type": "stream",
       "stream": "stdout",
       "text": [
        "I2\n"
       ]
      },
      {
       "output_type": "stream",
       "stream": "stdout",
       "text": [
        "Enter actor for the following event (enter '[]' without quotes if no actor)\n",
        "mu * eta * beta_I * I1 * T\n"
       ]
      },
      {
       "name": "stdout",
       "output_type": "stream",
       "stream": "stdout",
       "text": [
        "I1\n"
       ]
      },
      {
       "output_type": "stream",
       "stream": "stdout",
       "text": [
        "Enter actor for the following event (enter '[]' without quotes if no actor)\n",
        "mu * eta * beta_V * khi * I1 * T\n"
       ]
      },
      {
       "name": "stdout",
       "output_type": "stream",
       "stream": "stdout",
       "text": [
        "I1\n"
       ]
      },
      {
       "output_type": "stream",
       "stream": "stdout",
       "text": [
        "Enter actor for the following event (enter '[]' without quotes if no actor)\n",
        "eta * s * beta_I * I2 * T\n"
       ]
      },
      {
       "name": "stdout",
       "output_type": "stream",
       "stream": "stdout",
       "text": [
        "I2\n"
       ]
      },
      {
       "output_type": "stream",
       "stream": "stdout",
       "text": [
        "Enter actor for the following event (enter '[]' without quotes if no actor)\n",
        "eta * s * beta_V * khi * I2 * T\n"
       ]
      },
      {
       "name": "stdout",
       "output_type": "stream",
       "stream": "stdout",
       "text": [
        "I2\n"
       ]
      },
      {
       "output_type": "stream",
       "stream": "stdout",
       "text": [
        "Enter actor for the following event (enter '[]' without quotes if no actor)\n",
        "nu_T * T\n"
       ]
      },
      {
       "name": "stdout",
       "output_type": "stream",
       "stream": "stdout",
       "text": [
        "[]\n"
       ]
      },
      {
       "output_type": "stream",
       "stream": "stdout",
       "text": [
        "Enter actor for the following event (enter '[]' without quotes if no actor)\n",
        "alpha * E1\n"
       ]
      },
      {
       "name": "stdout",
       "output_type": "stream",
       "stream": "stdout",
       "text": [
        "[]\n"
       ]
      },
      {
       "output_type": "stream",
       "stream": "stdout",
       "text": [
        "Enter actor for the following event (enter '[]' without quotes if no actor)\n",
        "alpha_X * E1X\n"
       ]
      },
      {
       "name": "stdout",
       "output_type": "stream",
       "stream": "stdout",
       "text": [
        "[]\n"
       ]
      },
      {
       "output_type": "stream",
       "stream": "stdout",
       "text": [
        "Enter actor for the following event (enter '[]' without quotes if no actor)\n",
        "alpha * E2\n"
       ]
      },
      {
       "name": "stdout",
       "output_type": "stream",
       "stream": "stdout",
       "text": [
        "[]\n"
       ]
      },
      {
       "output_type": "stream",
       "stream": "stdout",
       "text": [
        "Enter actor for the following event (enter '[]' without quotes if no actor)\n",
        "alpha_X * E2\n"
       ]
      },
      {
       "name": "stdout",
       "output_type": "stream",
       "stream": "stdout",
       "text": [
        "[]\n"
       ]
      },
      {
       "output_type": "stream",
       "stream": "stdout",
       "text": [
        "Enter actor for the following event (enter '[]' without quotes if no actor)\n",
        "nu_I * I1\n"
       ]
      },
      {
       "name": "stdout",
       "output_type": "stream",
       "stream": "stdout",
       "text": [
        "[]\n"
       ]
      },
      {
       "output_type": "stream",
       "stream": "stdout",
       "text": [
        "Enter actor for the following event (enter '[]' without quotes if no actor)\n",
        "nu_I * I2\n"
       ]
      },
      {
       "name": "stdout",
       "output_type": "stream",
       "stream": "stdout",
       "text": [
        "[]\n"
       ]
      },
      {
       "output_type": "stream",
       "stream": "stdout",
       "text": [
        "Enter actor for the following event (enter '[]' without quotes if no actor)\n",
        "nu_T * E1\n"
       ]
      },
      {
       "name": "stdout",
       "output_type": "stream",
       "stream": "stdout",
       "text": [
        "[]\n"
       ]
      },
      {
       "output_type": "stream",
       "stream": "stdout",
       "text": [
        "Enter actor for the following event (enter '[]' without quotes if no actor)\n",
        "nu_T * E2\n"
       ]
      },
      {
       "name": "stdout",
       "output_type": "stream",
       "stream": "stdout",
       "text": [
        "[]\n"
       ]
      },
      {
       "output_type": "stream",
       "stream": "stdout",
       "text": [
        "Enter actor for the following event (enter '[]' without quotes if no actor)\n",
        "nu_T * E1X\n"
       ]
      },
      {
       "name": "stdout",
       "output_type": "stream",
       "stream": "stdout",
       "text": [
        "[]\n"
       ]
      },
      {
       "output_type": "stream",
       "stream": "stdout",
       "text": [
        "Enter actor for the following event (enter '[]' without quotes if no actor)\n",
        "nu_T * E2X\n"
       ]
      },
      {
       "name": "stdout",
       "output_type": "stream",
       "stream": "stdout",
       "text": [
        "[]\n"
       ]
      },
      {
       "output_type": "stream",
       "stream": "stdout",
       "text": [
        "Enter actor for the following event (enter '[]' without quotes if no actor)\n",
        "phi_T * DT\n"
       ]
      },
      {
       "name": "stdout",
       "output_type": "stream",
       "stream": "stdout",
       "text": [
        "[]\n"
       ]
      },
      {
       "output_type": "stream",
       "stream": "stdout",
       "text": [
        "Enter actor for the following event (enter '[]' without quotes if no actor)\n",
        "phi_I * DI\n"
       ]
      },
      {
       "name": "stdout",
       "output_type": "stream",
       "stream": "stdout",
       "text": [
        "[]\n"
       ]
      }
     ],
     "prompt_number": 3
    },
    {
     "cell_type": "code",
     "collapsed": false,
     "input": [
      "model.save('HCVLinTrackSS.json')"
     ],
     "language": "python",
     "metadata": {},
     "outputs": [],
     "prompt_number": 4
    },
    {
     "cell_type": "code",
     "collapsed": false,
     "input": [
      "[t,trace, tracked_events] =scotch.simulate.tauLeap(model,60,1, True)"
     ],
     "language": "python",
     "metadata": {},
     "outputs": [
      {
       "output_type": "stream",
       "stream": "stdout",
       "text": [
        "[                         ]"
       ]
      },
      {
       "output_type": "stream",
       "stream": "stdout",
       "text": [
        "\b\b\b\b\b\b\b\b\b\b\b\b\b\b\b\b\b\b\b\b\b\b\b\b\b\b"
       ]
      }
     ],
     "prompt_number": 3
    },
    {
     "cell_type": "code",
     "collapsed": false,
     "input": [
      "plt.plot(t,trace)\n",
      "plt.legend(model.states)"
     ],
     "language": "python",
     "metadata": {},
     "outputs": [
      {
       "metadata": {},
       "output_type": "pyout",
       "prompt_number": 4,
       "text": [
        "<matplotlib.legend.Legend at 0x105dcb450>"
       ]
      },
      {
       "metadata": {},
       "output_type": "display_data",
       "png": "[encoded data removed]",
       "text": [
        "<matplotlib.figure.Figure at 0x105dcb410>"
       ]
      }
     ],
     "prompt_number": 4
    },
    {
     "cell_type": "code",
     "collapsed": false,
     "input": [
      "trace[:,0]"
     ],
     "language": "python",
     "metadata": {},
     "outputs": [
      {
       "metadata": {},
       "output_type": "pyout",
       "prompt_number": 5,
       "text": [
        "array([ 10000.,   9869.,   9741.,   9611.,   9516.,   9461.,   9401.,\n",
        "         9337.,   9267.,   9205.,   9135.,   9073.,   9035.,   9011.,\n",
        "         8947.,   8884.,   8818.,   8712.,   8626.,   8531.,   8394.,\n",
        "         8217.,   7993.,   7771.,   7535.,   7239.,   6897.,   6539.,\n",
        "         6156.,   5739.,   5298.,   4837.,   4429.,   4041.,   3736.,\n",
        "         3416.,   3152.,   2976.,   2787.,   2638.,   2526.,   2514.,\n",
        "         2524.,   2457.,   2456.,   2421.,   2432.,   2454.,   2425.,\n",
        "         2463.,   2513.,   2559.,   2630.,   2688.,   2753.,   2770.,\n",
        "         2789.,   2834.,   2886.,   2907.])"
       ]
      }
     ],
     "prompt_number": 5
    },
    {
     "cell_type": "code",
     "collapsed": false,
     "input": [
      "[statesDict, actorsDict] = scotch.helpers.trackIndividuals(model,tracked_events,t, True,True)"
     ],
     "language": "python",
     "metadata": {},
     "outputs": [],
     "prompt_number": 6
    },
    {
     "cell_type": "code",
     "collapsed": false,
     "input": [
      "for x in statesDict['I1']:\n",
      "    x.sort()\n",
      "    (key=lambda tup: tup[1])"
     ],
     "language": "python",
     "metadata": {},
     "outputs": [],
     "prompt_number": 17
    },
    {
     "cell_type": "code",
     "collapsed": false,
     "input": [
      "actorsDict['(1 - eta) * beta_V * khi * I1 * T * (1 - mu)'][0].sort(key = lambda tup: (tup[0],tup[1])) \n",
      "    "
     ],
     "language": "python",
     "metadata": {},
     "outputs": [],
     "prompt_number": 31
    },
    {
     "cell_type": "code",
     "collapsed": false,
     "input": [
      "actorsDict['(1 - eta) * beta_V * khi * I1 * T * (1 - mu)'][0]"
     ],
     "language": "python",
     "metadata": {},
     "outputs": [
      {
       "metadata": {},
       "output_type": "pyout",
       "prompt_number": 7,
       "text": [
        "[(0, 6108),\n",
        " (1, 8423),\n",
        " (2, 21),\n",
        " (2, 8808),\n",
        " (4, 2133),\n",
        " (4, 5684),\n",
        " (8, 4367),\n",
        " (8, 6691)]"
       ]
      }
     ],
     "prompt_number": 7
    },
    {
     "cell_type": "code",
     "collapsed": false,
     "input": [
      "a = sorted(actorsDict['(1 - eta) * beta_V * khi * I1 * T * (1 - mu)'][0], key = lambda tup: tup[0])\n",
      "x = [b for c in a for b in c]"
     ],
     "language": "python",
     "metadata": {},
     "outputs": [],
     "prompt_number": 26
    },
    {
     "cell_type": "code",
     "collapsed": false,
     "input": [
      "print(x)\n",
      "print(a)\n",
      "      "
     ],
     "language": "python",
     "metadata": {},
     "outputs": [
      {
       "output_type": "stream",
       "stream": "stdout",
       "text": [
        "[0, 4944, 3, 6943, 3, 1720, 6, 2705, 8, 8047]\n",
        "[(0, 4944), (3, 6943), (3, 1720), (6, 2705), (8, 8047)]\n"
       ]
      }
     ],
     "prompt_number": 30
    },
    {
     "cell_type": "code",
     "collapsed": false,
     "input": [
      "trace[:,5]"
     ],
     "language": "python",
     "metadata": {},
     "outputs": [
      {
       "metadata": {},
       "output_type": "pyout",
       "prompt_number": 20,
       "text": [
        "array([   10.,     9.,    11.,    13.,    17.,    22.,    33.,    34.,\n",
        "          46.,    53.,    63.,    73.,   101.,   120.,   147.,   179.,\n",
        "         222.,   258.,   315.,   365.,   432.,   530.,   614.,   763.,\n",
        "         857.,  1025.,  1185.,  1375.,  1544.,  1815.,  2062.,  2333.,\n",
        "        2517.,  2722.,  2902.,  3004.,  3105.,  3181.,  3142.,  3152.,\n",
        "        3078.,  3049.,  3006.,  2888.,  2860.,  2836.,  2774.,  2707.,\n",
        "        2696.,  2661.,  2662.,  2654.,  2640.,  2634.,  2625.,  2588.,\n",
        "        2587.,  2584.,  2588.,  2613.])"
       ]
      }
     ],
     "prompt_number": 20
    },
    {
     "cell_type": "code",
     "collapsed": false,
     "input": [
      "[x[50] for x in actorsDict]"
     ],
     "language": "python",
     "metadata": {},
     "outputs": [
      {
       "ename": "IndexError",
       "evalue": "string index out of range",
       "output_type": "pyerr",
       "traceback": [
        "\u001b[0;31m---------------------------------------------------------------------------\u001b[0m\n\u001b[0;31mIndexError\u001b[0m                                Traceback (most recent call last)",
        "\u001b[0;32m<ipython-input-10-20f82ef4d436>\u001b[0m in \u001b[0;36m<module>\u001b[0;34m()\u001b[0m\n\u001b[0;32m----> 1\u001b[0;31m \u001b[0;34m[\u001b[0m\u001b[0mx\u001b[0m\u001b[0;34m[\u001b[0m\u001b[0;36m50\u001b[0m\u001b[0;34m]\u001b[0m \u001b[0;32mfor\u001b[0m \u001b[0mx\u001b[0m \u001b[0;32min\u001b[0m \u001b[0mactorsDict\u001b[0m\u001b[0;34m]\u001b[0m\u001b[0;34m\u001b[0m\u001b[0m\n\u001b[0m",
        "\u001b[0;31mIndexError\u001b[0m: string index out of range"
       ]
      }
     ],
     "prompt_number": 10
    },
    {
     "cell_type": "code",
     "collapsed": false,
     "input": [
      "[x[0] for x in [actorsDict[x[0]] for x in model.events]]"
     ],
     "language": "python",
     "metadata": {},
     "outputs": [
      {
       "metadata": {},
       "output_type": "pyout",
       "prompt_number": 21,
       "text": [
        "[[],\n",
        " [(0, 6108),\n",
        "  (1, 8423),\n",
        "  (2, 21),\n",
        "  (2, 8808),\n",
        "  (4, 2133),\n",
        "  (4, 5684),\n",
        "  (8, 4367),\n",
        "  (8, 6691)],\n",
        " [],\n",
        " [],\n",
        " [],\n",
        " [],\n",
        " [],\n",
        " [],\n",
        " [],\n",
        " [],\n",
        " [],\n",
        " [],\n",
        " [],\n",
        " [],\n",
        " [],\n",
        " [],\n",
        " [],\n",
        " [],\n",
        " [],\n",
        " [],\n",
        " [],\n",
        " [],\n",
        " [],\n",
        " [],\n",
        " []]"
       ]
      }
     ],
     "prompt_number": 21
    },
    {
     "cell_type": "code",
     "collapsed": false,
     "input": [],
     "language": "python",
     "metadata": {},
     "outputs": []
    }
   ],
   "metadata": {}
  }
 ]
}