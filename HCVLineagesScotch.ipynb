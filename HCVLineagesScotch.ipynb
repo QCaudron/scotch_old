{
 "metadata": {
  "name": ""
 },
 "nbformat": 3,
 "nbformat_minor": 0,
 "worksheets": [
  {
   "cells": [
    {
     "cell_type": "code",
     "collapsed": false,
     "input": [
      "import scotch"
     ],
     "language": "python",
     "metadata": {},
     "outputs": [],
     "prompt_number": 1
    },
    {
     "cell_type": "code",
     "collapsed": false,
     "input": [],
     "language": "python",
     "metadata": {},
     "outputs": [],
     "prompt_number": 1
    },
    {
     "cell_type": "code",
     "collapsed": false,
     "input": [
      "A = scotch.model('ruthie.json')"
     ],
     "language": "python",
     "metadata": {},
     "outputs": [
      {
       "output_type": "stream",
       "stream": "stdout",
       "text": [
        "scotch.scotch.model with 9 states, 13 parameters, and 25 reactions.\n",
        "\n",
        "States :\n",
        "T, initial condition = 99990\n",
        "E1, initial condition = 0\n",
        "E1X, initial condition = 0\n",
        "E2, initial condition = 0\n",
        "E2X, initial condition = 0\n",
        "I1, initial condition = 10\n",
        "I2, initial condition = 0\n",
        "DT, initial condition = 0\n",
        "DI, initial condition = 0\n",
        "\n",
        "Parameters :\n",
        "kappa = 0\n",
        "phi_T = 0.14\n",
        "beta_V = 0.000000005\n",
        "nu_I = 1/7\n",
        "phi_I = 0.14 * 0.8\n",
        "mu = 0.00001\n",
        "khi = 8.18 * 100000000000 / 10000* 4.1825 / (22.3*1500)\n",
        "s = 1.01\n",
        "eta = 0.01\n",
        "nu_T = 0.014\n",
        "beta_I = 4.1825 * 0.00001 / (60*24)\n",
        "alpha = 1\n",
        "alpha_X = 0.013\n",
        "\n",
        "Reactions :\n",
        "T -> E1,\trate (1 - eta) * beta_I * I1 * T * (1 - mu)\n",
        "T -> E1,\trate (1 - eta) * beta_V * khi * I1 * T * (1 - mu)\n",
        "T -> E1X,\trate eta * beta_I * I1 * T * (1 - mu)\n",
        "T -> E1X,\trate eta * beta_V * I1 * khi * T * (1 - mu)\n",
        "T -> E2,\trate mu * (1 - eta) * beta_I * I1 * T\n",
        "T -> E2,\trate mu * (1 - eta) * beta_V * khi * I1 * T\n",
        "T -> E2,\trate (1 - eta) * s * beta_I * I2 * T\n",
        "T -> E2,\trate (1 - eta) * s * beta_V * khi * I2 * T\n",
        "T -> E2X,\trate mu * eta * beta_I * I1 * T\n",
        "T -> E2X,\trate mu * eta * beta_V * khi * I1 * T\n",
        "T -> E2X,\trate eta * s * beta_I * I2 * T\n",
        "T -> E2X,\trate eta * s * beta_V * khi * I2 * T\n",
        "T -> DT,\trate nu_T * T\n",
        "E1 -> I1,\trate alpha * E1\n",
        "E1X -> I1,\trate alpha_X * E1X\n",
        "E2 -> I2,\trate alpha * E2\n",
        "E2X -> I2,\trate alpha_X * E2\n",
        "I1 -> DI,\trate nu_I * I1\n",
        "I2 -> DI,\trate nu_I * I2\n",
        "E1 -> DT,\trate nu_T * E1\n",
        "E2 -> DT,\trate nu_T * E2\n",
        "E1X -> DT,\trate nu_T * E1X\n",
        "E2X -> DT,\trate nu_T * E2X\n",
        "DT -> T,\trate phi_T * DT\n",
        "DI -> T,\trate phi_I * DI\n",
        "\n"
       ]
      }
     ],
     "prompt_number": 2
    },
    {
     "cell_type": "code",
     "collapsed": false,
     "input": [
      "A.build"
     ],
     "language": "python",
     "metadata": {},
     "outputs": [
      {
       "metadata": {},
       "output_type": "pyout",
       "prompt_number": 16,
       "text": [
        "<bound method model.build of T -> E1, rate (1 - eta) * beta_I * I1 * T * (1 - mu)\n",
        "T -> E1, rate (1 - eta) * beta_V * khi * I1 * T * (1 - mu)\n",
        "T -> E1X, rate eta * beta_I * I1 * T * (1 - mu)\n",
        "T -> E1X, rate eta * beta_V * I1 * khi * T * (1 - mu)\n",
        "T -> E2, rate mu * (1 - eta) * beta_I * I1 * T\n",
        "T -> E2, rate mu * (1 - eta) * beta_V * khi * I1 * T\n",
        "T -> E2, rate (1 - eta) * s * beta_I * I2 * T\n",
        "T -> E2, rate (1 - eta) * s * beta_V * khi * I2 * T\n",
        "T -> E2X, rate mu * eta * beta_I * I1 * T\n",
        "T -> E2X, rate mu * eta * beta_V * khi * I1 * T\n",
        "T -> E2X, rate eta * s * beta_I * I2 * T\n",
        "T -> E2X, rate eta * s * beta_V * khi * I2 * T\n",
        "T -> DT, rate nu_T * T\n",
        "E1 -> I1, rate alpha * E1\n",
        "E1X -> I1, rate alpha_X * E1X\n",
        "E2 -> I2, rate alpha * E2\n",
        "E2X -> I2, rate alpha_X * E2\n",
        "I1 -> DI, rate nu_I * I1\n",
        "I2 -> DI, rate nu_I * I2\n",
        "E1 -> DT, rate nu_T * E1\n",
        "E2 -> DT, rate nu_T * E2\n",
        "E1X -> DT, rate nu_T * E1X\n",
        "E2X -> DT, rate nu_T * E2X\n",
        "DT -> T, rate phi_T * DT\n",
        "DI -> T, rate phi_I * DI\n",
        ">"
       ]
      }
     ],
     "prompt_number": 16
    },
    {
     "cell_type": "code",
     "collapsed": false,
     "input": [
      "[t,trace] = scotch.simulate.tauLeap(A,1000,.01)"
     ],
     "language": "python",
     "metadata": {},
     "outputs": [
      {
       "output_type": "stream",
       "stream": "stdout",
       "text": [
        "[                         ]"
       ]
      },
      {
       "output_type": "stream",
       "stream": "stdout",
       "text": [
        "\b\b\b\b\b\b\b\b\b\b\b\b\b\b\b\b\b\b\b\b\b\b\b\b\b\b-"
       ]
      },
      {
       "output_type": "stream",
       "stream": "stdout",
       "text": [
        "-"
       ]
      },
      {
       "output_type": "stream",
       "stream": "stdout",
       "text": [
        "-"
       ]
      },
      {
       "output_type": "stream",
       "stream": "stdout",
       "text": [
        "-"
       ]
      },
      {
       "output_type": "stream",
       "stream": "stdout",
       "text": [
        "-"
       ]
      },
      {
       "output_type": "stream",
       "stream": "stdout",
       "text": [
        "-"
       ]
      },
      {
       "output_type": "stream",
       "stream": "stdout",
       "text": [
        "-"
       ]
      },
      {
       "output_type": "stream",
       "stream": "stdout",
       "text": [
        "-"
       ]
      },
      {
       "output_type": "stream",
       "stream": "stdout",
       "text": [
        "-"
       ]
      },
      {
       "output_type": "stream",
       "stream": "stdout",
       "text": [
        "-"
       ]
      },
      {
       "output_type": "stream",
       "stream": "stdout",
       "text": [
        "-"
       ]
      },
      {
       "output_type": "stream",
       "stream": "stdout",
       "text": [
        "-"
       ]
      },
      {
       "output_type": "stream",
       "stream": "stdout",
       "text": [
        "-"
       ]
      },
      {
       "output_type": "stream",
       "stream": "stdout",
       "text": [
        "-"
       ]
      },
      {
       "output_type": "stream",
       "stream": "stdout",
       "text": [
        "-"
       ]
      },
      {
       "output_type": "stream",
       "stream": "stdout",
       "text": [
        "-"
       ]
      },
      {
       "output_type": "stream",
       "stream": "stdout",
       "text": [
        "-"
       ]
      },
      {
       "output_type": "stream",
       "stream": "stdout",
       "text": [
        "-"
       ]
      },
      {
       "output_type": "stream",
       "stream": "stdout",
       "text": [
        "-"
       ]
      },
      {
       "output_type": "stream",
       "stream": "stdout",
       "text": [
        "-"
       ]
      },
      {
       "output_type": "stream",
       "stream": "stdout",
       "text": [
        "-"
       ]
      },
      {
       "output_type": "stream",
       "stream": "stdout",
       "text": [
        "-"
       ]
      },
      {
       "output_type": "stream",
       "stream": "stdout",
       "text": [
        "-"
       ]
      },
      {
       "output_type": "stream",
       "stream": "stdout",
       "text": [
        "-"
       ]
      },
      {
       "output_type": "stream",
       "stream": "stdout",
       "text": [
        "-"
       ]
      }
     ],
     "prompt_number": 17
    },
    {
     "cell_type": "code",
     "collapsed": false,
     "input": [
      "A.initconds['T'] = '9990'"
     ],
     "language": "python",
     "metadata": {},
     "outputs": [],
     "prompt_number": 13
    },
    {
     "cell_type": "code",
     "collapsed": false,
     "input": [
      "import matplotlib.pyplot as plt\n",
      "import seaborn"
     ],
     "language": "python",
     "metadata": {},
     "outputs": [],
     "prompt_number": 4
    },
    {
     "cell_type": "code",
     "collapsed": false,
     "input": [
      "plt.plot(t,trace[:,[0,5,6]])\n",
      "plt.legend([A.states[i] for i in [0,5,6]])"
     ],
     "language": "python",
     "metadata": {},
     "outputs": [
      {
       "metadata": {},
       "output_type": "pyout",
       "prompt_number": 18,
       "text": [
        "<matplotlib.legend.Legend at 0x10daa2790>"
       ]
      },
      {
       "metadata": {},
       "output_type": "display_data",
       "png": "[encoded data removed]",
       "text": [
        "<matplotlib.figure.Figure at 0x10daa27d0>"
       ]
      }
     ],
     "prompt_number": 18
    },
    {
     "cell_type": "code",
     "collapsed": false,
     "input": [
      "%matplotlib inline"
     ],
     "language": "python",
     "metadata": {},
     "outputs": [],
     "prompt_number": 7
    },
    {
     "cell_type": "code",
     "collapsed": false,
     "input": [
      "A.states[0,7]"
     ],
     "language": "python",
     "metadata": {},
     "outputs": [
      {
       "ename": "TypeError",
       "evalue": "list indices must be integers, not tuple",
       "output_type": "pyerr",
       "traceback": [
        "\u001b[0;31m---------------------------------------------------------------------------\u001b[0m\n\u001b[0;31mTypeError\u001b[0m                                 Traceback (most recent call last)",
        "\u001b[0;32m<ipython-input-70-7422952f2b06>\u001b[0m in \u001b[0;36m<module>\u001b[0;34m()\u001b[0m\n\u001b[0;32m----> 1\u001b[0;31m \u001b[0mA\u001b[0m\u001b[0;34m.\u001b[0m\u001b[0mstates\u001b[0m\u001b[0;34m[\u001b[0m\u001b[0;36m0\u001b[0m\u001b[0;34m,\u001b[0m\u001b[0;36m7\u001b[0m\u001b[0;34m]\u001b[0m\u001b[0;34m\u001b[0m\u001b[0m\n\u001b[0m",
        "\u001b[0;31mTypeError\u001b[0m: list indices must be integers, not tuple"
       ]
      }
     ],
     "prompt_number": 70
    },
    {
     "cell_type": "code",
     "collapsed": false,
     "input": [
      "[A.states[i] for i in [0,5,6]]"
     ],
     "language": "python",
     "metadata": {},
     "outputs": [
      {
       "metadata": {},
       "output_type": "pyout",
       "prompt_number": 73,
       "text": [
        "[u'T', u'I1', u'I2']"
       ]
      }
     ],
     "prompt_number": 73
    },
    {
     "cell_type": "code",
     "collapsed": false,
     "input": [],
     "language": "python",
     "metadata": {},
     "outputs": []
    }
   ],
   "metadata": {}
  }
 ]
}