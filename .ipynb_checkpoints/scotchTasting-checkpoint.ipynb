{
 "metadata": {
  "name": ""
 },
 "nbformat": 3,
 "nbformat_minor": 0,
 "worksheets": [
  {
   "cells": [
    {
     "cell_type": "code",
     "collapsed": false,
     "input": [
      "import scotch\n",
      "import matplotlib.pyplot as plt\n",
      "%matplotlib inline\n",
      "import numpy as np"
     ],
     "language": "python",
     "metadata": {},
     "outputs": [],
     "prompt_number": 2
    },
    {
     "cell_type": "code",
     "collapsed": false,
     "input": [
      "A = scotch.model('HCVLin.json')"
     ],
     "language": "python",
     "metadata": {},
     "outputs": [
      {
       "output_type": "stream",
       "stream": "stdout",
       "text": [
        "scotch.scotch.model with 9 states, 13 parameters, and 25 events.\n",
        "\n",
        "States :\n",
        "T, initial condition = 10000\n",
        "E1, initial condition = 0\n",
        "E1X, initial condition = 0\n",
        "E2, initial condition = 0\n",
        "E2X, initial condition = 0\n",
        "I1, initial condition = 10\n",
        "I2, initial condition = 1\n",
        "DT, initial condition = 0\n",
        "DI, initial condition = 0\n",
        "\n",
        "Parameters :\n",
        "kappa = 0\n",
        "phi_T = 0.14\n",
        "beta_V = 0.000000005\n",
        "nu_I = 1/7\n",
        "phi_I = 0.14 * 0.8\n",
        "mu = 0.00001\n",
        "khi = 8.18 * 100000000000 / 10000* 4.1825 / (22.3*1500)\n",
        "s = 1.01\n",
        "eta = 0.01\n",
        "nu_T = 0.014\n",
        "beta_I = 4.1825 * 0.00001 / (60*24)\n",
        "alpha = 1\n",
        "alpha_X = .013\n",
        "\n",
        "Events :\n",
        "Number 0: \tprobability (1 - eta) * beta_I * I1 * T * (1 - mu)\n",
        "Number 1: \tprobability (1 - eta) * beta_V * khi * I1 * T * (1 - mu)\n",
        "Number 2: \tprobability eta * beta_I * I1 * T * (1 - mu)\n",
        "Number 3: \tprobability eta * beta_V * I1 * khi * T * (1 - mu)\n",
        "Number 4: \tprobability mu * (1 - eta) * beta_I * I1 * T\n",
        "Number 5: \tprobability mu * (1 - eta) * beta_V * khi * I1 * T\n",
        "Number 6: \tprobability (1 - eta) * s * beta_I * I2 * T\n",
        "Number 7: \tprobability (1 - eta) * s * beta_V * khi * I2 * T\n",
        "Number 8: \tprobability mu * eta * beta_I * I1 * T\n",
        "Number 9: \tprobability mu * eta * beta_V * khi * I1 * T\n",
        "Number 10: \tprobability eta * s * beta_I * I2 * T\n",
        "Number 11: \tprobability eta * s * beta_V * khi * I2 * T\n",
        "Number 12: \tprobability nu_T * T\n",
        "Number 13: \tprobability alpha * E1\n",
        "Number 14: \tprobability alpha_X * E1X\n",
        "Number 15: \tprobability alpha * E2\n",
        "Number 16: \tprobability alpha_X * E2\n",
        "Number 17: \tprobability nu_I * I1\n",
        "Number 18: \tprobability nu_I * I2\n",
        "Number 19: \tprobability nu_T * E1\n",
        "Number 20: \tprobability nu_T * E2\n",
        "Number 21: \tprobability nu_T * E1X\n",
        "Number 22: \tprobability nu_T * E2X\n",
        "Number 23: \tprobability phi_T * DT\n",
        "Number 24: \tprobability phi_I * DI\n",
        "\n"
       ]
      }
     ],
     "prompt_number": 3
    },
    {
     "cell_type": "code",
     "collapsed": false,
     "input": [
      "[t,trace, tracked_events] =scotch.simulate.tauLeap(model,10,.001, True)"
     ],
     "language": "python",
     "metadata": {},
     "outputs": [
      {
       "output_type": "stream",
       "stream": "stdout",
       "text": [
        "[                         ]"
       ]
      },
      {
       "output_type": "stream",
       "stream": "stdout",
       "text": [
        "\b\b\b\b\b\b\b\b\b\b\b\b\b\b\b\b\b\b\b\b\b\b\b\b\b\bStopping early - no valid transitions !"
       ]
      },
      {
       "output_type": "stream",
       "stream": "stdout",
       "text": [
        "\n"
       ]
      }
     ],
     "prompt_number": 68
    },
    {
     "cell_type": "code",
     "collapsed": false,
     "input": [
      "[t,trace,tracked_events] = scotch.simulate.gillespie(model,100,True)"
     ],
     "language": "python",
     "metadata": {},
     "outputs": [
      {
       "output_type": "stream",
       "stream": "stdout",
       "text": [
        "[                         ]"
       ]
      },
      {
       "output_type": "stream",
       "stream": "stdout",
       "text": [
        "\b\b\b\b\b\b\b\b\b\b\b\b\b\b\b\b\b\b\b\b\b\b\b\b\b\bStopping early - no valid transitions !\n"
       ]
      }
     ],
     "prompt_number": 65
    },
    {
     "cell_type": "code",
     "collapsed": false,
     "input": [
      "statesDict = scotch.helpers.trackIndividuals(A,tracked_events,t)"
     ],
     "language": "python",
     "metadata": {},
     "outputs": [],
     "prompt_number": 7
    },
    {
     "cell_type": "code",
     "collapsed": false,
     "input": [
      "model.parameters"
     ],
     "language": "python",
     "metadata": {},
     "outputs": [
      {
       "metadata": {},
       "output_type": "pyout",
       "prompt_number": 59,
       "text": [
        "{'beta': 3, 'gamma': '2'}"
       ]
      }
     ],
     "prompt_number": 59
    },
    {
     "cell_type": "code",
     "collapsed": false,
     "input": [
      "model.wizard()"
     ],
     "language": "python",
     "metadata": {},
     "outputs": [
      {
       "output_type": "stream",
       "stream": "stdout",
       "text": [
        "Complete list of state variables, separated by commas :\n"
       ]
      },
      {
       "name": "stdout",
       "output_type": "stream",
       "stream": "stdout",
       "text": [
        "S,I,R\n"
       ]
      },
      {
       "output_type": "stream",
       "stream": "stdout",
       "text": [
        "\n",
        "Initial conditions (integers) :\n"
       ]
      },
      {
       "name": "stdout",
       "output_type": "stream",
       "stream": "stdout",
       "text": [
        "S : 100\n"
       ]
      },
      {
       "name": "stdout",
       "output_type": "stream",
       "stream": "stdout",
       "text": [
        "I : 1\n"
       ]
      },
      {
       "name": "stdout",
       "output_type": "stream",
       "stream": "stdout",
       "text": [
        "R : 0\n"
       ]
      },
      {
       "output_type": "stream",
       "stream": "stdout",
       "text": [
        "\n",
        "Complete list of parameters, separated by commas :\n"
       ]
      },
      {
       "name": "stdout",
       "output_type": "stream",
       "stream": "stdout",
       "text": [
        "b, g\n"
       ]
      },
      {
       "output_type": "stream",
       "stream": "stdout",
       "text": [
        "\n",
        "Values of parameters :\n"
       ]
      },
      {
       "name": "stdout",
       "output_type": "stream",
       "stream": "stdout",
       "text": [
        "b : 4\n"
       ]
      },
      {
       "name": "stdout",
       "output_type": "stream",
       "stream": "stdout",
       "text": [
        "g : 2\n"
       ]
      },
      {
       "output_type": "stream",
       "stream": "stdout",
       "text": [
        "\n",
        "Events, as \"<rate>, <state_change>, ...\" lists, with commas between state changes and X+1, Y-1 as example changes :\n"
       ]
      },
      {
       "name": "stdout",
       "output_type": "stream",
       "stream": "stdout",
       "text": [
        "b*S*I, S-1, I+1\n"
       ]
      },
      {
       "name": "stdout",
       "output_type": "stream",
       "stream": "stdout",
       "text": [
        "g*I, I-1, R+1\n"
       ]
      },
      {
       "name": "stdout",
       "output_type": "stream",
       "stream": "stdout",
       "text": [
        "\n"
       ]
      },
      {
       "output_type": "stream",
       "stream": "stdout",
       "text": [
        "scotch.scotch.model with 3 states, 2 parameters, and 2 events.\n",
        "\n",
        "States :\n",
        "S, initial condition = 100\n",
        "I, initial condition = 1\n",
        "R, initial condition = 0\n",
        "\n",
        "Parameters :\n",
        "b = 4\n",
        "g = 2\n",
        "\n",
        "Events :\n",
        "Number 0: \tprobability b*S*I\n",
        "Number 1: \tprobability g*I\n",
        "\n"
       ]
      }
     ],
     "prompt_number": 62
    },
    {
     "cell_type": "code",
     "collapsed": false,
     "input": [
      "model.save('BasicSIR.json')"
     ],
     "language": "python",
     "metadata": {},
     "outputs": [],
     "prompt_number": 44
    },
    {
     "cell_type": "code",
     "collapsed": false,
     "input": [
      "plt.plot(np.diff(t))"
     ],
     "language": "python",
     "metadata": {},
     "outputs": [
      {
       "metadata": {},
       "output_type": "pyout",
       "prompt_number": 5,
       "text": [
        "[<matplotlib.lines.Line2D at 0x105f480d0>]"
       ]
      },
      {
       "metadata": {},
       "output_type": "display_data",
       "png": "[encoded data removed]",
       "text": [
        "<matplotlib.figure.Figure at 0x105cb7250>"
       ]
      }
     ],
     "prompt_number": 5
    },
    {
     "cell_type": "code",
     "collapsed": false,
     "input": [
      "model = A\n",
      "lastID = 0\n",
      "for key in statesDict.keys() :\n",
      "    if model.initconds[key] >0 :\n",
      "        print key\n",
      "        print model.initconds[key]\n",
      "        statesDict[key].append(range(lastID, lastID+model.initconds[key]))\n",
      "        lastID = lastID+model.initconds[key]\n",
      "    else :\n",
      "        print key\n",
      "        print model.initconds[key]\n",
      "        statesDict[key].append([])"
     ],
     "language": "python",
     "metadata": {},
     "outputs": [
      {
       "output_type": "stream",
       "stream": "stdout",
       "text": [
        "E1X\n",
        "0\n",
        "DI\n",
        "0\n",
        "I1\n",
        "10\n",
        "I2\n",
        "1\n",
        "E2X\n",
        "0\n",
        "T\n",
        "10000\n",
        "DT\n",
        "0\n",
        "E1\n",
        "0\n",
        "E2\n",
        "0\n"
       ]
      }
     ],
     "prompt_number": 13
    },
    {
     "cell_type": "code",
     "collapsed": false,
     "input": [
      "model = A\n",
      "statesDict = {}\n",
      "for s in model.states :\n",
      "    statesDict[s] = []\n"
     ],
     "language": "python",
     "metadata": {},
     "outputs": [],
     "prompt_number": 11
    },
    {
     "cell_type": "code",
     "collapsed": false,
     "input": [
      "statesDict[A.states[1]][5] ==statesDict[A.states[1]][101] "
     ],
     "language": "python",
     "metadata": {},
     "outputs": [
      {
       "metadata": {},
       "output_type": "pyout",
       "prompt_number": 21,
       "text": [
        "True"
       ]
      }
     ],
     "prompt_number": 21
    },
    {
     "cell_type": "code",
     "collapsed": false,
     "input": [
      "trace.transpose().shape"
     ],
     "language": "python",
     "metadata": {},
     "outputs": [
      {
       "metadata": {},
       "output_type": "pyout",
       "prompt_number": 15,
       "text": [
        "(10000, 9)"
       ]
      }
     ],
     "prompt_number": 15
    },
    {
     "cell_type": "code",
     "collapsed": false,
     "input": [
      "plt.plot(t,trace)"
     ],
     "language": "python",
     "metadata": {},
     "outputs": [
      {
       "metadata": {},
       "output_type": "pyout",
       "prompt_number": 69,
       "text": [
        "[<matplotlib.lines.Line2D at 0x10649a890>,\n",
        " <matplotlib.lines.Line2D at 0x10649ab10>,\n",
        " <matplotlib.lines.Line2D at 0x10649ad50>]"
       ]
      },
      {
       "metadata": {},
       "output_type": "display_data",
       "png": "[encoded data removed]",
       "text": [
        "<matplotlib.figure.Figure at 0x10606e8d0>"
       ]
      }
     ],
     "prompt_number": 69
    },
    {
     "cell_type": "code",
     "collapsed": false,
     "input": [
      "model = A\n",
      "tracking_array = tracked_events"
     ],
     "language": "python",
     "metadata": {},
     "outputs": [],
     "prompt_number": 22
    },
    {
     "cell_type": "code",
     "collapsed": false,
     "input": [
      "statesDict = {}\n",
      "for s in model.states :\n",
      "    statesDict[s] = []\n",
      "\n",
      "\t\n",
      "\n",
      "# Input initial conditions\n",
      "lastID = 0\n",
      "\n",
      "for key in statesDict.keys() :\n",
      "    if model.initconds[key] >0 :\n",
      "            statesDict[key].append(range(lastID, lastID+model.initconds[key]))\n",
      "            lastID = lastID+model.initconds[key]\n",
      "    else :\n",
      "\t\tstatesDict[key].append([])\n",
      "\n",
      "\t\n",
      "\t\n",
      "for idx, val in enumerate(t[:5]) :\n",
      "\tfor idx2, val2 in enumerate(tracking_array[:,idx]) :\n",
      "            numIDs_to_move = model.transition[:,idx2]*val2\n",
      "            print numIDs_to_move\n",
      "            for idx3, val3 in enumerate(numIDs_to_move) :\n",
      "                x = statesDict[model.states[idx3]][-1]\n",
      "                print model.states[idx3]\n",
      "                print x\n",
      "                if val3 < 0 :\n",
      "                    #remove\n",
      "                    for i in np.random.choice(x,np.abs(val3),replace=False) :\n",
      "                        x.remove(i)\n",
      "                elif val3 > 0 :\n",
      "                    for i in range(int(val3)) :\n",
      "                        lastID+=1\n",
      "                        x.append(lastID)\n",
      "                statesDict[model.states[idx3]].append(x)\n"
     ],
     "language": "python",
     "metadata": {},
     "outputs": [
      {
       "ename": "IndentationError",
       "evalue": "unindent does not match any outer indentation level (<ipython-input-81-65a3d1354635>, line 13)",
       "output_type": "pyerr",
       "traceback": [
        "\u001b[0;36m  File \u001b[0;32m\"<ipython-input-81-65a3d1354635>\"\u001b[0;36m, line \u001b[0;32m13\u001b[0m\n\u001b[0;31m    lastID = lastID+model.initconds[key]\u001b[0m\n\u001b[0m                                        ^\u001b[0m\n\u001b[0;31mIndentationError\u001b[0m\u001b[0;31m:\u001b[0m unindent does not match any outer indentation level\n"
       ]
      }
     ],
     "prompt_number": 81
    },
    {
     "cell_type": "code",
     "collapsed": false,
     "input": [
      "for idx, val in enumerate(t[:-1]) :\n",
      "    for idx2, val2 in enumerate(tracking_array[:,idx]) :\n",
      "\t\t#calculate how many transitions to do \n",
      "        numIDs_to_move = model.transition[:,idx2]*val2\n",
      "        #print numIDs_to_move\n",
      "        for idx3, val3 in enumerate(numIDs_to_move) :\n",
      "            #print idx3\n",
      "            x = statesDict[model.states[idx3]][-1]\n",
      "            if val3 < 0 :\n",
      "\t\t\t\t#remove\n",
      "\t\t\t\tfor i in np.random.choice(x,np.abs(val3),replace=False) :\n",
      "\t\t\t\t\tx.remove(i)\n",
      "            elif val3 > 0 :\n",
      "\t\t\t\tfor i in range(int(val3)) :\n",
      "\t\t\t\t\tlastID+=1\n",
      "\t\t\t\t\tx.append(lastID)\n",
      "            statesDict[model.states[idx3]].append(x)\n"
     ],
     "language": "python",
     "metadata": {},
     "outputs": [
      {
       "ename": "ValueError",
       "evalue": "Cannot take a larger sample than population when 'replace=False'",
       "output_type": "pyerr",
       "traceback": [
        "\u001b[0;31m---------------------------------------------------------------------------\u001b[0m\n\u001b[0;31mValueError\u001b[0m                                Traceback (most recent call last)",
        "\u001b[0;32m<ipython-input-26-f5730cc8689b>\u001b[0m in \u001b[0;36m<module>\u001b[0;34m()\u001b[0m\n\u001b[1;32m      9\u001b[0m             \u001b[0;32mif\u001b[0m \u001b[0mval3\u001b[0m \u001b[0;34m<\u001b[0m \u001b[0;36m0\u001b[0m \u001b[0;34m:\u001b[0m\u001b[0;34m\u001b[0m\u001b[0m\n\u001b[1;32m     10\u001b[0m                                 \u001b[0;31m#remove\u001b[0m\u001b[0;34m\u001b[0m\u001b[0;34m\u001b[0m\u001b[0m\n\u001b[0;32m---> 11\u001b[0;31m                                 \u001b[0;32mfor\u001b[0m \u001b[0mi\u001b[0m \u001b[0;32min\u001b[0m \u001b[0mnp\u001b[0m\u001b[0;34m.\u001b[0m\u001b[0mrandom\u001b[0m\u001b[0;34m.\u001b[0m\u001b[0mchoice\u001b[0m\u001b[0;34m(\u001b[0m\u001b[0mx\u001b[0m\u001b[0;34m,\u001b[0m\u001b[0mnp\u001b[0m\u001b[0;34m.\u001b[0m\u001b[0mabs\u001b[0m\u001b[0;34m(\u001b[0m\u001b[0mval3\u001b[0m\u001b[0;34m)\u001b[0m\u001b[0;34m,\u001b[0m\u001b[0mreplace\u001b[0m\u001b[0;34m=\u001b[0m\u001b[0mFalse\u001b[0m\u001b[0;34m)\u001b[0m \u001b[0;34m:\u001b[0m\u001b[0;34m\u001b[0m\u001b[0m\n\u001b[0m\u001b[1;32m     12\u001b[0m                                         \u001b[0mx\u001b[0m\u001b[0;34m.\u001b[0m\u001b[0mremove\u001b[0m\u001b[0;34m(\u001b[0m\u001b[0mi\u001b[0m\u001b[0;34m)\u001b[0m\u001b[0;34m\u001b[0m\u001b[0m\n\u001b[1;32m     13\u001b[0m             \u001b[0;32melif\u001b[0m \u001b[0mval3\u001b[0m \u001b[0;34m>\u001b[0m \u001b[0;36m0\u001b[0m \u001b[0;34m:\u001b[0m\u001b[0;34m\u001b[0m\u001b[0m\n",
        "\u001b[0;32m/Users/rbirger/anaconda/lib/python2.7/site-packages/numpy/random/mtrand.so\u001b[0m in \u001b[0;36mmtrand.RandomState.choice (numpy/random/mtrand/mtrand.c:8075)\u001b[0;34m()\u001b[0m\n",
        "\u001b[0;31mValueError\u001b[0m: Cannot take a larger sample than population when 'replace=False'"
       ]
      }
     ],
     "prompt_number": 26
    },
    {
     "cell_type": "code",
     "collapsed": false,
     "input": [
      "A.initconds"
     ],
     "language": "python",
     "metadata": {},
     "outputs": [
      {
       "metadata": {},
       "output_type": "pyout",
       "prompt_number": 7,
       "text": [
        "{u'DI': 0,\n",
        " u'DT': 0,\n",
        " u'E1': 0,\n",
        " u'E1X': 0,\n",
        " u'E2': 0,\n",
        " u'E2X': 0,\n",
        " u'I1': 10,\n",
        " u'I2': 1,\n",
        " u'T': 10000}"
       ]
      }
     ],
     "prompt_number": 7
    },
    {
     "cell_type": "code",
     "collapsed": false,
     "input": [
      "[x for x in model.states_map.keys() if model.states_map[x] == 1]"
     ],
     "language": "python",
     "metadata": {},
     "outputs": [
      {
       "metadata": {},
       "output_type": "pyout",
       "prompt_number": 53,
       "text": [
        "[u'E1']"
       ]
      }
     ],
     "prompt_number": 53
    },
    {
     "cell_type": "code",
     "collapsed": false,
     "input": [
      "statesDict[model.states[2]][-1]"
     ],
     "language": "python",
     "metadata": {},
     "outputs": [
      {
       "metadata": {},
       "output_type": "pyout",
       "prompt_number": 85,
       "text": [
        "[]"
       ]
      }
     ],
     "prompt_number": 85
    },
    {
     "cell_type": "code",
     "collapsed": false,
     "input": [
      "A = [24, 30]\n",
      "B = [1,2,3,24]\n",
      "checkset= [x for x in A if x not in B]"
     ],
     "language": "python",
     "metadata": {},
     "outputs": [],
     "prompt_number": 7
    },
    {
     "cell_type": "code",
     "collapsed": false,
     "input": [
      "A.tracked_trans"
     ],
     "language": "python",
     "metadata": {},
     "outputs": [
      {
       "metadata": {},
       "output_type": "pyout",
       "prompt_number": 10,
       "text": [
        "[['T', 'E1', '(1 - eta) * beta_I * I1 * T * (1 - mu)'],\n",
        " ['T', 'E1', '(1 - eta) * beta_V * khi * I1 * T * (1 - mu)'],\n",
        " ['T', 'E1X', 'eta * beta_I * I1 * T * (1 - mu)'],\n",
        " ['T', 'E1X', 'eta * beta_V * I1 * khi * T * (1 - mu)'],\n",
        " ['T', 'E2', 'mu * (1 - eta) * beta_I * I1 * T'],\n",
        " ['T', 'E2', 'mu * (1 - eta) * beta_V * khi * I1 * T'],\n",
        " ['T', 'E2', '(1 - eta) * s * beta_I * I2 * T'],\n",
        " ['T', 'E2', '(1 - eta) * s * beta_V * khi * I2 * T'],\n",
        " ['T', 'E2X', 'mu * eta * beta_I * I1 * T'],\n",
        " ['T', 'E2X', 'mu * eta * beta_V * khi * I1 * T'],\n",
        " ['T', 'E2X', 'eta * s * beta_I * I2 * T'],\n",
        " ['T', 'E2X', 'eta * s * beta_V * khi * I2 * T'],\n",
        " ['T', 'DT', 'nu_T * T'],\n",
        " ['E1', 'I1', 'alpha * E1'],\n",
        " ['E1X', 'I1', 'alpha_X * E1X'],\n",
        " ['E2', 'I2', 'alpha * E2'],\n",
        " ['E2X', 'I2', 'alpha_X * E2'],\n",
        " ['I1', 'DI', 'nu_I * I1'],\n",
        " ['I2', 'DI', 'nu_I * I2'],\n",
        " ['E1', 'DT', 'nu_T * E1'],\n",
        " ['E2', 'DT', 'nu_T * E2'],\n",
        " ['E1X', 'DT', 'nu_T * E1X'],\n",
        " ['E2X', 'DT', 'nu_T * E2X'],\n",
        " ['DT', 'T', 'phi_T * DT'],\n",
        " ['DI', 'T', 'phi_I * DI']]"
       ]
      }
     ],
     "prompt_number": 10
    },
    {
     "cell_type": "code",
     "collapsed": false,
     "input": [
      "rates = np.zeros(A.N_reactions)\n",
      "tau  = 1\n",
      "Use = np.zeros(A.N_reactions)\n",
      "for i in range(A.N_reactions) :\n",
      "\t\t\trates[i] = A.rates[i](A.X)\n",
      "\t\t\tNum=np.random.poisson(rates[i]*tau/rates.sum());\n",
      "\t\t\t## Make sure things don't go negative\n",
      "\t\t\tUse[i]=min([Num, A.X[np.where(A.transition[i,:]<0)]]);\n"
     ],
     "language": "python",
     "metadata": {},
     "outputs": [],
     "prompt_number": 8
    },
    {
     "cell_type": "code",
     "collapsed": false,
     "input": [
      "rates = np.zeros(A.N_reactions)\n",
      "tau = 1\n",
      "for i in range(A.N_reactions) :\n",
      "\trates[i] = A.rates[i](A.X)\n",
      "\n",
      "Num=[np.random.poisson(i*tau/rates.sum()) for i in rates]\n",
      "Use = [min([Num[i], A.X[np.where(A.transition[i,:]<0)]]) for i in range(A.N_reactions)]\n"
     ],
     "language": "python",
     "metadata": {},
     "outputs": [],
     "prompt_number": 16
    },
    {
     "cell_type": "code",
     "collapsed": false,
     "input": [
      "np.sum(A.transition*Use,axis=1)"
     ],
     "language": "python",
     "metadata": {},
     "outputs": [
      {
       "metadata": {},
       "output_type": "pyout",
       "prompt_number": 21,
       "text": [
        "array([-3.,  3.,  0.])"
       ]
      }
     ],
     "prompt_number": 21
    },
    {
     "cell_type": "code",
     "collapsed": false,
     "input": [
      "tt = np.where(t1 > 1)[0][0]\n",
      "plt.plot(t1[:7],trace[:7])\n"
     ],
     "language": "python",
     "metadata": {},
     "outputs": [
      {
       "metadata": {},
       "output_type": "pyout",
       "prompt_number": 25,
       "text": [
        "[<matplotlib.lines.Line2D at 0x1097cab10>,\n",
        " <matplotlib.lines.Line2D at 0x109ac8a50>,\n",
        " <matplotlib.lines.Line2D at 0x109ac8150>]"
       ]
      },
      {
       "metadata": {},
       "output_type": "display_data",
       "png": "[encoded data removed]",
       "text": [
        "<matplotlib.figure.Figure at 0x1098dbcd0>"
       ]
      }
     ],
     "prompt_number": 25
    },
    {
     "cell_type": "code",
     "collapsed": false,
     "input": [
      "[t1,trace1] = scotch.simulate.gillespie(A,30)"
     ],
     "language": "python",
     "metadata": {},
     "outputs": [],
     "prompt_number": 15
    },
    {
     "cell_type": "code",
     "collapsed": false,
     "input": [
      "import networkx as nx"
     ],
     "language": "python",
     "metadata": {},
     "outputs": [],
     "prompt_number": 12
    },
    {
     "cell_type": "code",
     "collapsed": false,
     "input": [
      "G = nx.DiGraph()"
     ],
     "language": "python",
     "metadata": {},
     "outputs": [],
     "prompt_number": 67
    },
    {
     "cell_type": "code",
     "collapsed": false,
     "input": [
      "G.add_nodes_from(A.states)"
     ],
     "language": "python",
     "metadata": {},
     "outputs": [],
     "prompt_number": 68
    },
    {
     "cell_type": "code",
     "collapsed": false,
     "input": [
      "G.add_edges_from(reactions_tuple)"
     ],
     "language": "python",
     "metadata": {},
     "outputs": [],
     "prompt_number": 69
    },
    {
     "cell_type": "code",
     "collapsed": false,
     "input": [],
     "language": "python",
     "metadata": {},
     "outputs": [
      {
       "metadata": {},
       "output_type": "pyout",
       "prompt_number": 43,
       "text": [
        "[u'I', u'S', u'R']"
       ]
      }
     ],
     "prompt_number": 43
    },
    {
     "cell_type": "code",
     "collapsed": false,
     "input": [
      "nx.draw(G)"
     ],
     "language": "python",
     "metadata": {},
     "outputs": [
      {
       "metadata": {},
       "output_type": "display_data",
       "png": "[encoded data removed]",
       "text": [
        "<matplotlib.figure.Figure at 0x105ee9850>"
       ]
      }
     ],
     "prompt_number": 70
    },
    {
     "cell_type": "code",
     "collapsed": false,
     "input": [
      "pos=nx.circular_layout(G)\n",
      "nx.draw_networkx_edge_labels(G,pos,edge_labels=edge_labels1)\n",
      "nx.draw(G,pos)\n",
      "    "
     ],
     "language": "python",
     "metadata": {},
     "outputs": [
      {
       "metadata": {},
       "output_type": "display_data",
       "png": "[encoded data removed]",
       "text": [
        "<matplotlib.figure.Figure at 0x1067a2a50>"
       ]
      }
     ],
     "prompt_number": 79
    },
    {
     "cell_type": "code",
     "collapsed": false,
     "input": [
      "reactions_tuple =((u'S',u'I',{'label':u'r0*g*S*I/(S+I+R)'}),(u'I', u'R', {'label': u'I * g'}))"
     ],
     "language": "python",
     "metadata": {},
     "outputs": [],
     "prompt_number": 11
    },
    {
     "cell_type": "code",
     "collapsed": false,
     "input": [
      "import networkx as nx\n",
      "import numpy as np\n",
      "import matplotlib.pyplot as plt\n",
      "import pylab"
     ],
     "language": "python",
     "metadata": {},
     "outputs": [],
     "prompt_number": 24
    },
    {
     "cell_type": "code",
     "collapsed": false,
     "input": [
      "G = nx.DiGraph()\n",
      "\n",
      "G.add_edges_from([('A', 'B'),('C','D'),('G','D')], weight=1)\n",
      "G.add_edges_from([('D','A'),('D','E'),('B','D'),('D','E')], weight=2)\n",
      "G.add_edges_from([('B','C'),('E','F')], weight=3)\n",
      "G.add_edges_from([('C','F')], weight=4)\n",
      "\n",
      "\n",
      "val_map = {'A': 1.0,\n",
      "                   'D': 0.5714285714285714,\n",
      "                              'H': 0.0}\n",
      "\n",
      "values = [val_map.get(node, 0.45) for node in G.nodes()]\n",
      "edge_labels=dict([((u,v,),d['weight'])\n",
      "                 for u,v,d in G.edges(data=True)])\n",
      "red_edges = [('C','D'),('D','A')]\n",
      "edge_colors = ['black' if not edge in red_edges else 'red' for edge in G.edges()]\n",
      "\n",
      "pos=nx.spring_layout(G)\n",
      "nx.draw_networkx_edge_labels(G,pos,edge_labels=edge_labels)\n",
      "nx.draw(G,pos, node_color = values, node_size=1500,edge_color=edge_colors,edge_cmap=plt.cm.Reds)\n",
      "pylab.show()"
     ],
     "language": "python",
     "metadata": {},
     "outputs": []
    },
    {
     "cell_type": "code",
     "collapsed": false,
     "input": [
      "edge_list"
     ],
     "language": "python",
     "metadata": {},
     "outputs": [
      {
       "metadata": {},
       "output_type": "pyout",
       "prompt_number": 15,
       "text": [
        "[(u'S', u'I'), (u'I', u'R')]"
       ]
      }
     ],
     "prompt_number": 15
    },
    {
     "cell_type": "code",
     "collapsed": false,
     "input": [
      "edge_list =[(d[0],d[1]) for d in A.reactions]"
     ],
     "language": "python",
     "metadata": {},
     "outputs": [],
     "prompt_number": 14
    },
    {
     "cell_type": "code",
     "collapsed": false,
     "input": [
      "edge_labels1=dict([((d[0],d[1],),d[2])\n",
      "                 for d in A.reactions])"
     ],
     "language": "python",
     "metadata": {},
     "outputs": [],
     "prompt_number": 65
    },
    {
     "cell_type": "code",
     "collapsed": false,
     "input": [
      "edge_labels1"
     ],
     "language": "python",
     "metadata": {},
     "outputs": [
      {
       "metadata": {},
       "output_type": "pyout",
       "prompt_number": 66,
       "text": [
        "{(u'I', u'R'): u'I * g', (u'S', u'I'): u'r0 * g * S * I / (S+I+R)'}"
       ]
      }
     ],
     "prompt_number": 66
    },
    {
     "cell_type": "code",
     "collapsed": false,
     "input": [
      "import pygraphviz as pgv"
     ],
     "language": "python",
     "metadata": {},
     "outputs": [],
     "prompt_number": 1
    },
    {
     "cell_type": "code",
     "collapsed": false,
     "input": [
      "G=pgv.AGraph(strict = False, directed = True)"
     ],
     "language": "python",
     "metadata": {},
     "outputs": [],
     "prompt_number": 5
    },
    {
     "cell_type": "code",
     "collapsed": false,
     "input": [
      "G.add_nodes_from(A.states)"
     ],
     "language": "python",
     "metadata": {},
     "outputs": [],
     "prompt_number": 10
    },
    {
     "cell_type": "code",
     "collapsed": false,
     "input": [
      "G.add_edges_from(edge_list)"
     ],
     "language": "python",
     "metadata": {},
     "outputs": [],
     "prompt_number": 16
    },
    {
     "cell_type": "code",
     "collapsed": false,
     "input": [
      "s = G.string()"
     ],
     "language": "python",
     "metadata": {},
     "outputs": [],
     "prompt_number": 21
    },
    {
     "cell_type": "code",
     "collapsed": false,
     "input": [
      "G.draw('graph_example.png')"
     ],
     "language": "python",
     "metadata": {},
     "outputs": [],
     "prompt_number": 20
    },
    {
     "cell_type": "code",
     "collapsed": false,
     "input": [
      "pos=nx.spring_layout(G)\n",
      "nx.draw_networkx_edge_labels(G,pos,edge_labels=edge_labels1)"
     ],
     "language": "python",
     "metadata": {},
     "outputs": [
      {
       "ename": "AttributeError",
       "evalue": "'AGraph' object has no attribute 'is_multigraph'",
       "output_type": "pyerr",
       "traceback": [
        "\u001b[0;31m---------------------------------------------------------------------------\u001b[0m\n\u001b[0;31mAttributeError\u001b[0m                            Traceback (most recent call last)",
        "\u001b[0;32m<ipython-input-25-4786ff22663b>\u001b[0m in \u001b[0;36m<module>\u001b[0;34m()\u001b[0m\n\u001b[0;32m----> 1\u001b[0;31m \u001b[0mpos\u001b[0m\u001b[0;34m=\u001b[0m\u001b[0mnx\u001b[0m\u001b[0;34m.\u001b[0m\u001b[0mspring_layout\u001b[0m\u001b[0;34m(\u001b[0m\u001b[0mG\u001b[0m\u001b[0;34m)\u001b[0m\u001b[0;34m\u001b[0m\u001b[0m\n\u001b[0m\u001b[1;32m      2\u001b[0m \u001b[0mnx\u001b[0m\u001b[0;34m.\u001b[0m\u001b[0mdraw_networkx_edge_labels\u001b[0m\u001b[0;34m(\u001b[0m\u001b[0mG\u001b[0m\u001b[0;34m,\u001b[0m\u001b[0mpos\u001b[0m\u001b[0;34m,\u001b[0m\u001b[0medge_labels\u001b[0m\u001b[0;34m=\u001b[0m\u001b[0medge_labels1\u001b[0m\u001b[0;34m)\u001b[0m\u001b[0;34m\u001b[0m\u001b[0m\n",
        "\u001b[0;32m/Users/rbirger/anaconda/lib/python2.7/site-packages/networkx/drawing/layout.pyc\u001b[0m in \u001b[0;36mfruchterman_reingold_layout\u001b[0;34m(G, dim, k, pos, fixed, iterations, weight, scale)\u001b[0m\n\u001b[1;32m    242\u001b[0m         \u001b[0mpos\u001b[0m\u001b[0;34m=\u001b[0m\u001b[0m_sparse_fruchterman_reingold\u001b[0m\u001b[0;34m(\u001b[0m\u001b[0mA\u001b[0m\u001b[0;34m,\u001b[0m\u001b[0mdim\u001b[0m\u001b[0;34m,\u001b[0m\u001b[0mk\u001b[0m\u001b[0;34m,\u001b[0m\u001b[0mpos_arr\u001b[0m\u001b[0;34m,\u001b[0m\u001b[0mfixed\u001b[0m\u001b[0;34m,\u001b[0m\u001b[0miterations\u001b[0m\u001b[0;34m)\u001b[0m\u001b[0;34m\u001b[0m\u001b[0m\n\u001b[1;32m    243\u001b[0m     \u001b[0;32mexcept\u001b[0m\u001b[0;34m:\u001b[0m\u001b[0;34m\u001b[0m\u001b[0m\n\u001b[0;32m--> 244\u001b[0;31m         \u001b[0mA\u001b[0m\u001b[0;34m=\u001b[0m\u001b[0mnx\u001b[0m\u001b[0;34m.\u001b[0m\u001b[0mto_numpy_matrix\u001b[0m\u001b[0;34m(\u001b[0m\u001b[0mG\u001b[0m\u001b[0;34m,\u001b[0m\u001b[0mweight\u001b[0m\u001b[0;34m=\u001b[0m\u001b[0mweight\u001b[0m\u001b[0;34m)\u001b[0m\u001b[0;34m\u001b[0m\u001b[0m\n\u001b[0m\u001b[1;32m    245\u001b[0m         \u001b[0mpos\u001b[0m\u001b[0;34m=\u001b[0m\u001b[0m_fruchterman_reingold\u001b[0m\u001b[0;34m(\u001b[0m\u001b[0mA\u001b[0m\u001b[0;34m,\u001b[0m\u001b[0mdim\u001b[0m\u001b[0;34m,\u001b[0m\u001b[0mk\u001b[0m\u001b[0;34m,\u001b[0m\u001b[0mpos_arr\u001b[0m\u001b[0;34m,\u001b[0m\u001b[0mfixed\u001b[0m\u001b[0;34m,\u001b[0m\u001b[0miterations\u001b[0m\u001b[0;34m)\u001b[0m\u001b[0;34m\u001b[0m\u001b[0m\n\u001b[1;32m    246\u001b[0m     \u001b[0;32mif\u001b[0m \u001b[0mfixed\u001b[0m \u001b[0;32mis\u001b[0m \u001b[0mNone\u001b[0m\u001b[0;34m:\u001b[0m\u001b[0;34m\u001b[0m\u001b[0m\n",
        "\u001b[0;32m/Users/rbirger/anaconda/lib/python2.7/site-packages/networkx/convert.pyc\u001b[0m in \u001b[0;36mto_numpy_matrix\u001b[0;34m(G, nodelist, dtype, order, multigraph_weight, weight)\u001b[0m\n\u001b[1;32m    495\u001b[0m     \u001b[0mindex\u001b[0m\u001b[0;34m=\u001b[0m\u001b[0mdict\u001b[0m\u001b[0;34m(\u001b[0m\u001b[0mzip\u001b[0m\u001b[0;34m(\u001b[0m\u001b[0mnodelist\u001b[0m\u001b[0;34m,\u001b[0m\u001b[0mrange\u001b[0m\u001b[0;34m(\u001b[0m\u001b[0mnlen\u001b[0m\u001b[0;34m)\u001b[0m\u001b[0;34m)\u001b[0m\u001b[0;34m)\u001b[0m\u001b[0;34m\u001b[0m\u001b[0m\n\u001b[1;32m    496\u001b[0m \u001b[0;34m\u001b[0m\u001b[0m\n\u001b[0;32m--> 497\u001b[0;31m     \u001b[0;32mif\u001b[0m \u001b[0mG\u001b[0m\u001b[0;34m.\u001b[0m\u001b[0mis_multigraph\u001b[0m\u001b[0;34m(\u001b[0m\u001b[0;34m)\u001b[0m\u001b[0;34m:\u001b[0m\u001b[0;34m\u001b[0m\u001b[0m\n\u001b[0m\u001b[1;32m    498\u001b[0m         \u001b[0;31m# Handle MultiGraphs and MultiDiGraphs\u001b[0m\u001b[0;34m\u001b[0m\u001b[0;34m\u001b[0m\u001b[0m\n\u001b[1;32m    499\u001b[0m         \u001b[0;31m# array of nan' to start with, any leftover nans will be converted to 0\u001b[0m\u001b[0;34m\u001b[0m\u001b[0;34m\u001b[0m\u001b[0m\n",
        "\u001b[0;31mAttributeError\u001b[0m: 'AGraph' object has no attribute 'is_multigraph'"
       ]
      }
     ],
     "prompt_number": 25
    },
    {
     "cell_type": "code",
     "collapsed": false,
     "input": [],
     "language": "python",
     "metadata": {},
     "outputs": []
    }
   ],
   "metadata": {}
  }
 ]
}